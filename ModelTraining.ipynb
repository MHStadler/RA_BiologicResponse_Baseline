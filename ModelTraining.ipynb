{
 "cells": [
  {
   "cell_type": "code",
   "execution_count": 1,
   "metadata": {},
   "outputs": [
    {
     "name": "stdout",
     "output_type": "stream",
     "text": [
      "----\n",
      "Apparent Performance:\n",
      "{'brier_score': 0.22800307393096944, 'auc': 0.665688559322034, 'citl': 0.0008809970978581067, 'cal_slope': 1.0000892237571866}\n",
      "----\n"
     ]
    }
   ],
   "source": [
    "from model_evaluation import perform_apparent_model_evaluation\n",
    "\n",
    "perform_apparent_model_evaluation('crp')"
   ]
  },
  {
   "cell_type": "code",
   "execution_count": 2,
   "metadata": {},
   "outputs": [
    {
     "name": "stdout",
     "output_type": "stream",
     "text": [
      "----\n",
      "Apparent Performance:\n",
      "{'brier_score': 0.22392845393896366, 'auc': 0.6779662866844531, 'citl': 0.003200947737761476, 'cal_slope': 0.9999530057651642}\n",
      "----\n"
     ]
    }
   ],
   "source": [
    "perform_apparent_model_evaluation('esr')"
   ]
  },
  {
   "cell_type": "code",
   "execution_count": null,
   "metadata": {},
   "outputs": [],
   "source": []
  }
 ],
 "metadata": {
  "kernelspec": {
   "display_name": "Python 3",
   "language": "python",
   "name": "python3"
  },
  "language_info": {
   "codemirror_mode": {
    "name": "ipython",
    "version": 3
   },
   "file_extension": ".py",
   "mimetype": "text/x-python",
   "name": "python",
   "nbconvert_exporter": "python",
   "pygments_lexer": "ipython3",
   "version": "3.8.5"
  }
 },
 "nbformat": 4,
 "nbformat_minor": 4
}
