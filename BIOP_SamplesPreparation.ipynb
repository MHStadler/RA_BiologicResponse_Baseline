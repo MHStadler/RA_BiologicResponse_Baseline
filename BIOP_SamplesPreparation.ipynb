{
 "cells": [
  {
   "cell_type": "code",
   "execution_count": 1,
   "metadata": {},
   "outputs": [
    {
     "name": "stderr",
     "output_type": "stream",
     "text": [
      "/mnt/jw01-aruk-home01/projects/precision_medicine_ml/tensorflow2.2_gpu/lib/python3.8/site-packages/pandas/io/stata.py:1433: UnicodeWarning: \n",
      "One or more strings in the dta file could not be decoded using utf-8, and\n",
      "so the fallback encoding of latin-1 is being used.  This can happen when a file\n",
      "has been incorrectly encoded by Stata or some other software. You should verify\n",
      "the string values returned are correct.\n",
      "  warnings.warn(msg, UnicodeWarning)\n"
     ]
    },
    {
     "name": "stdout",
     "output_type": "stream",
     "text": [
      "(10976, 328)\n"
     ]
    }
   ],
   "source": [
    "import pandas as pd\n",
    "import numpy as np\n",
    "\n",
    "biop_data = pd.read_stata(\"../../data/braggss/analysis_elig_dayson.dta\")\n",
    "\n",
    "print(biop_data.shape)"
   ]
  },
  {
   "cell_type": "code",
   "execution_count": 2,
   "metadata": {},
   "outputs": [],
   "source": [
    "acpa_dataframe = pd.read_csv('./data/patient_acpa_data.csv', delimiter = ',')"
   ]
  },
  {
   "cell_type": "code",
   "execution_count": 3,
   "metadata": {},
   "outputs": [],
   "source": [
    "biop_data_dir = {}\n",
    "\n",
    "fupno_vals = np.unique(biop_data['fupno'])\n",
    "\n",
    "for n in fupno_vals:\n",
    "    idx = np.where(biop_data['fupno'] == n)\n",
    "\n",
    "    biop_data_c = biop_data.iloc[idx]\n",
    "    biop_data_c = biop_data_c.reset_index()\n",
    "    \n",
    "    biop_data_dir[n] = biop_data_c"
   ]
  },
  {
   "cell_type": "code",
   "execution_count": 4,
   "metadata": {},
   "outputs": [],
   "source": [
    "biop_data_sets = []\n",
    "\n",
    "for n in fupno_vals:\n",
    "    das_columns = ['das_swol', 'das_tend', 'das_pat_global', 'das_crp', 'das_esr', 'crp_bioC']\n",
    "    \n",
    "    if n == 0:\n",
    "        columns = ['sample_id', 'acr_rfpos', 'first_bio', 'weight_intbl_baseline', 'height', 'disease_duration', 'smoking', 'drug_id_intbl_bio', 'age_onset', 'current_dmard', 'gender', 'haq_score']\n",
    "    else:\n",
    "        columns = ['sample_id']\n",
    "    columns.extend(das_columns)\n",
    "        \n",
    "    rename_columns = {}\n",
    "    for das_column in das_columns:\n",
    "        \n",
    "        rename_columns[das_column] = f'{das_column}.{n}'\n",
    "    \n",
    "    data = biop_data_dir[n][columns]\n",
    "    data = data.rename(columns = rename_columns)\n",
    "    \n",
    "    biop_data_sets.append(data)"
   ]
  },
  {
   "cell_type": "code",
   "execution_count": 5,
   "metadata": {},
   "outputs": [],
   "source": [
    "bl_crp = biop_data_sets[0]['crp_bioC.0'].to_numpy()\n",
    "crp_idx = np.where(np.logical_and(pd.isnull(bl_crp), ~pd.isnull(biop_data_sets[0]['das_crp.0'])))[0]\n",
    "bl_crp[crp_idx] = biop_data_sets[0]['das_crp.0'].iloc[crp_idx]\n",
    "\n",
    "bl_crp[bl_crp < 0] = np.nan\n",
    "\n",
    "biop_data_sets[0]['das_crp_comb.0'] = np.maximum(bl_crp, 0)"
   ]
  },
  {
   "cell_type": "code",
   "execution_count": 6,
   "metadata": {},
   "outputs": [],
   "source": [
    "fu_crp = biop_data_sets[2]['crp_bioC.2'].to_numpy()\n",
    "crp_idx = np.where(np.logical_and(pd.isnull(fu_crp), ~pd.isnull(biop_data_sets[2]['das_crp.2'])))[0]\n",
    "fu_crp[crp_idx] = biop_data_sets[2]['das_crp.2'].iloc[crp_idx]\n",
    "\n",
    "fu_crp[fu_crp < 0] = np.nan\n",
    "\n",
    "biop_data_sets[2]['das_crp_comb.2'] = fu_crp"
   ]
  },
  {
   "cell_type": "code",
   "execution_count": 7,
   "metadata": {},
   "outputs": [],
   "source": [
    "biop_output_data = biop_data_sets[0].astype({'drug_id_intbl_bio': 'str'})\n",
    "\n",
    "for n in [2]:\n",
    "    biop_output_data = biop_output_data.merge(biop_data_sets[n], on = 'sample_id', how = 'left')"
   ]
  },
  {
   "cell_type": "code",
   "execution_count": 8,
   "metadata": {},
   "outputs": [],
   "source": [
    "biop_output_data = biop_output_data.merge(acpa_dataframe, how = 'left')"
   ]
  },
  {
   "cell_type": "code",
   "execution_count": 9,
   "metadata": {},
   "outputs": [],
   "source": [
    "bio = biop_output_data['first_bio'].astype('str')\n",
    "\n",
    "bio[np.where(bio == 'yes')[0]] = '1'\n",
    "bio[np.where(bio == 'no')[0]] = '0'\n",
    "bio.replace('nan', np.nan, inplace = True)\n",
    "\n",
    "biop_output_data['FIRSTBIO'] = bio"
   ]
  },
  {
   "cell_type": "code",
   "execution_count": 10,
   "metadata": {},
   "outputs": [],
   "source": [
    "gender = biop_output_data['gender'].astype('str')\n",
    "\n",
    "gender[np.where(gender == 'male')[0]] = '0'\n",
    "gender[np.where(gender == 'female')[0]] = '1'\n",
    "gender.replace('nan', np.nan, inplace = True)\n",
    "\n",
    "biop_output_data['SEX'] = gender"
   ]
  },
  {
   "cell_type": "code",
   "execution_count": 11,
   "metadata": {},
   "outputs": [],
   "source": [
    "smoke = biop_output_data['smoking'].astype('str')\n",
    "\n",
    "smoke[np.where([x.startswith('current') for x in smoke])[0]] = 'current'\n",
    "smoke[np.where([x.startswith('ex') for x in smoke])[0]] = 'past'\n",
    "smoke[np.where([x.startswith('never') for x in smoke])[0]] = 'never'\n",
    "smoke.replace('nan', np.nan, inplace = True)\n",
    "\n",
    "biop_output_data['SMOKE'] = smoke"
   ]
  },
  {
   "cell_type": "code",
   "execution_count": 12,
   "metadata": {},
   "outputs": [
    {
     "data": {
      "text/plain": [
       "array(['10436.0', '10437.0', '10449.0', 'BS Etan(Benepali)',\n",
       "       'BS Etan(Erelzi)', 'BS Inflix(Inflectra)', 'BS Inflix(Remsima)',\n",
       "       'BS Ritux(Rixathon)', 'BS Ritux(Truxima)',\n",
       "       'Baricitinib (Olumiant)', 'Biosimilar Adalimumab (Amgevita)',\n",
       "       'Certolizumab', 'Other biologic', 'Tofacit(Xeljanz)', 'abatacept',\n",
       "       'adalimumab', 'etanercept', 'golimumab', 'infliximab', 'nan',\n",
       "       'rituximab', 'tocilizumab'], dtype=object)"
      ]
     },
     "execution_count": 12,
     "metadata": {},
     "output_type": "execute_result"
    }
   ],
   "source": [
    "np.unique(biop_output_data['drug_id_intbl_bio'].astype('str'))"
   ]
  },
  {
   "cell_type": "code",
   "execution_count": 13,
   "metadata": {},
   "outputs": [],
   "source": [
    "bio = biop_output_data['drug_id_intbl_bio'].astype('str')\n",
    "\n",
    "for idx, val in enumerate(bio):\n",
    "    if val == 'adalimumab' or 'Adalimumab' in val:\n",
    "        val = 'adalimumab'\n",
    "    elif val == 'etanercept' or 'Etan' in val:\n",
    "        val = 'etanercept'\n",
    "    elif val == 'rituximab' or 'Ritux' in val:\n",
    "        val = 'rituximab'\n",
    "    elif val == 'infliximab' or 'Inflix' in val:\n",
    "        val = 'infliximab'\n",
    "    elif val == 'abatacept' or val == 'golimumab' or val == 'Certolizumab' or val == 'tocilizumab':\n",
    "        val = val\n",
    "    else:\n",
    "        val = 'Other'\n",
    "        \n",
    "    bio[idx] = val\n",
    "    \n",
    "biop_output_data['BIO'] = bio"
   ]
  },
  {
   "cell_type": "code",
   "execution_count": 14,
   "metadata": {},
   "outputs": [],
   "source": [
    "dmard = biop_output_data['current_dmard'].astype('str')\n",
    "\n",
    "dmard[np.where(dmard == 'yes')[0]] = '1'\n",
    "dmard[np.where(dmard == 'no')[0]] = '0'\n",
    "dmard.replace('nan', np.nan, inplace = True)\n",
    "dmard.replace('9.0', np.nan, inplace = True)\n",
    "\n",
    "biop_output_data['CONCURRENT_DMARD'] = dmard"
   ]
  },
  {
   "cell_type": "code",
   "execution_count": 15,
   "metadata": {},
   "outputs": [],
   "source": [
    "rf_pos = biop_output_data['acr_rfpos']\n",
    "acpa = biop_output_data['acpa_positive']"
   ]
  },
  {
   "cell_type": "code",
   "execution_count": 16,
   "metadata": {},
   "outputs": [],
   "source": [
    "sero_pos = np.zeros(biop_output_data.shape[0])\n",
    "\n",
    "both_idx = np.where(np.logical_and(~pd.isnull(rf_pos), ~pd.isnull(acpa)))[0]\n",
    "sero_pos[both_idx] = np.logical_or(rf_pos[both_idx], acpa[both_idx])\n",
    "\n",
    "rf_pos_idx = np.where(np.logical_and(~pd.isnull(rf_pos), pd.isnull(acpa)))[0]\n",
    "sero_pos[rf_pos_idx] = rf_pos[rf_pos_idx]\n",
    "\n",
    "acpa_idx = np.where(np.logical_and(pd.isnull(rf_pos), ~pd.isnull(acpa)))[0]\n",
    "sero_pos[acpa_idx] = acpa[acpa_idx]\n",
    "\n",
    "none_idx = np.where(np.logical_and(pd.isnull(rf_pos), pd.isnull(acpa)))[0]\n",
    "sero_pos[none_idx] = np.nan\n",
    "\n",
    "biop_output_data['SERO'] = sero_pos"
   ]
  },
  {
   "cell_type": "code",
   "execution_count": 17,
   "metadata": {},
   "outputs": [],
   "source": [
    "biop_output_data = biop_output_data.rename(columns = {'das_pat_global.0': 'das_vas.0', 'das_pat_global.2': 'das_vas.2', 'acr_rfpos': 'RFPOS', 'weight_intbl_baseline': 'WEIGHT', 'height': 'HEIGHT', 'disease_duration': 'DISDUR', 'age_onset': 'AGEONSET', 'haq_score': 'HAQ', 'acpa_positive': 'ACPA', 'das_crp_comb.0': 'crp.0', 'das_crp_comb.2': 'crp.2', 'das_esr.0': 'esr.0', 'das_esr.2': 'esr.2'})"
   ]
  },
  {
   "cell_type": "code",
   "execution_count": 18,
   "metadata": {},
   "outputs": [
    {
     "data": {
      "text/plain": [
       "Index(['sample_id', 'RFPOS', 'first_bio', 'WEIGHT', 'HEIGHT', 'DISDUR',\n",
       "       'smoking', 'drug_id_intbl_bio', 'AGEONSET', 'current_dmard', 'gender',\n",
       "       'HAQ', 'das_swol.0', 'das_tend.0', 'das_vas.0', 'das_crp.0', 'esr.0',\n",
       "       'crp_bioC.0', 'crp.0', 'das_swol.2', 'das_tend.2', 'das_vas.2',\n",
       "       'das_crp.2', 'esr.2', 'crp_bioC.2', 'crp.2', 'ACPA', 'FIRSTBIO', 'SEX',\n",
       "       'SMOKE', 'BIO', 'CONCURRENT_DMARD', 'SERO'],\n",
       "      dtype='object')"
      ]
     },
     "execution_count": 18,
     "metadata": {},
     "output_type": "execute_result"
    }
   ],
   "source": [
    "biop_output_data.columns"
   ]
  },
  {
   "cell_type": "code",
   "execution_count": 19,
   "metadata": {},
   "outputs": [],
   "source": [
    "import functools\n",
    "\n",
    "def calc_esr_das(tjc, sjc, ghvas, esr):\n",
    "    return (56 / 100) * np.sqrt(tjc) + (28 / 100) * np.sqrt(sjc) + (70 / 100) * np.log(esr + 1e-8) + (14 / 1000) * ghvas\n",
    "\n",
    "def calc_crp_das(tjc, sjc, ghvas, crp):\n",
    "    return (56 / 100) * np.sqrt(tjc) + (28 / 100) * np.sqrt(sjc) + (36 / 100) * np.log(crp + 1) + (14 / 1000) * ghvas + 0.96\n",
    "\n",
    "das_data = []\n",
    "\n",
    "for index, row in biop_output_data.iterrows():\n",
    "    data = {'sample_id': row['sample_id']}\n",
    "    \n",
    "    crp_bl = [~pd.isnull(row[x]) for x in ['das_swol.0', 'das_tend.0', 'das_vas.0', 'crp.0']]\n",
    "    crp_fu = [~pd.isnull(row[x]) for x in ['das_swol.2', 'das_tend.2', 'das_vas.2', 'crp.2']]\n",
    "    esr_bl = [~pd.isnull(row[x]) for x in ['das_swol.0', 'das_tend.0', 'das_vas.0', 'esr.0']]\n",
    "    esr_fu = [~pd.isnull(row[x]) for x in ['das_swol.2', 'das_tend.2', 'das_vas.2', 'esr.2']]\n",
    "    if functools.reduce(np.logical_and, crp_bl):\n",
    "        crp_bl_das = calc_crp_das(row['das_tend.0'], row['das_swol.0'], row['das_vas.0'], row['crp.0'])\n",
    "        \n",
    "        data['das28crp.0'] = crp_bl_das\n",
    "    if functools.reduce(np.logical_and, crp_fu):\n",
    "        crp_fu_das = calc_crp_das(row['das_tend.2'], row['das_swol.2'], row['das_vas.2'], row['crp.2'])\n",
    "        \n",
    "        data['das28crp.2'] = crp_fu_das\n",
    "    if functools.reduce(np.logical_and, esr_bl):\n",
    "        esr_bl_das = calc_esr_das(row['das_tend.0'], row['das_swol.0'], row['das_vas.0'], row['esr.0'])\n",
    "        \n",
    "        data['das28esr.0'] = esr_bl_das\n",
    "    if functools.reduce(np.logical_and, esr_fu):\n",
    "        esr_fu_das = calc_esr_das(row['das_tend.2'], row['das_swol.2'], row['das_vas.2'], row['esr.2'])\n",
    "        \n",
    "        data['das28esr.2'] = esr_fu_das\n",
    "        \n",
    "    das_data.append(data)\n",
    "    \n",
    "das_data = pd.DataFrame(das_data, index = np.arange(len(das_data)))\n",
    "    \n",
    "biop_output_data = biop_output_data.merge(das_data, on = 'sample_id', how = 'left')"
   ]
  },
  {
   "cell_type": "code",
   "execution_count": 20,
   "metadata": {},
   "outputs": [],
   "source": [
    "output_columns = ['sample_id', 'das_swol.0', 'das_tend.0', 'das_vas.0', 'crp.0', 'esr.0', 'das_swol.2', 'das_tend.2', 'das_vas.2', 'crp.2', 'esr.2', \n",
    "                  'das28crp.0', 'das28crp.2', 'das28esr.0', 'das28esr.2', 'RFPOS', 'FIRSTBIO', 'WEIGHT', 'HEIGHT', 'DISDUR', 'SMOKE', 'BIO', 'AGEONSET', 'CONCURRENT_DMARD', 'SEX', 'HAQ', 'ACPA', 'SERO']\n",
    "\n",
    "biop_output_data[output_columns].to_csv('./data/biop_clinical.csv', index = False)"
   ]
  },
  {
   "cell_type": "code",
   "execution_count": null,
   "metadata": {},
   "outputs": [],
   "source": []
  }
 ],
 "metadata": {
  "kernelspec": {
   "display_name": "Python 3",
   "language": "python",
   "name": "python3"
  },
  "language_info": {
   "codemirror_mode": {
    "name": "ipython",
    "version": 3
   },
   "file_extension": ".py",
   "mimetype": "text/x-python",
   "name": "python",
   "nbconvert_exporter": "python",
   "pygments_lexer": "ipython3",
   "version": "3.8.5"
  }
 },
 "nbformat": 4,
 "nbformat_minor": 4
}
