{
 "cells": [
  {
   "cell_type": "code",
   "execution_count": 1,
   "metadata": {},
   "outputs": [],
   "source": [
    "import pandas as pd\n",
    "\n",
    "acpa_data = pd.read_csv('../../data/braggss/allBiop_with_status.csv')"
   ]
  },
  {
   "cell_type": "code",
   "execution_count": 2,
   "metadata": {},
   "outputs": [
    {
     "name": "stdout",
     "output_type": "stream",
     "text": [
      "acpa_status: ['NEG' 'Neg' 'O' 'POS' 'Pos']\n"
     ]
    }
   ],
   "source": [
    "import numpy as np\n",
    "\n",
    "print('acpa_status:', np.unique(acpa_data['acpa_status']))\n",
    "\n",
    "patient_ids = np.unique(acpa_data['sample_id'])"
   ]
  },
  {
   "cell_type": "code",
   "execution_count": 3,
   "metadata": {},
   "outputs": [],
   "source": [
    "patient_acpa_stati = []\n",
    "\n",
    "for patient_id in patient_ids:\n",
    "    patient_idx = np.where(acpa_data['sample_id'] == patient_id)[0]\n",
    "    \n",
    "    acpa_status = acpa_data.iloc[patient_idx]['acpa_status'].to_numpy()\n",
    "    \n",
    "    acpa_positive = np.logical_or('O' in acpa_status, np.logical_or('POS' in acpa_status, 'Pos' in acpa_status))\n",
    "    \n",
    "    if acpa_positive:\n",
    "        acpa_status = 1\n",
    "    else:\n",
    "        acpa_status = 0\n",
    "    \n",
    "    patient_acpa_status = {\n",
    "        'sample_id': patient_id,\n",
    "        'acpa_positive': acpa_status\n",
    "    }\n",
    "    \n",
    "    patient_acpa_stati.append(patient_acpa_status)"
   ]
  },
  {
   "cell_type": "code",
   "execution_count": 4,
   "metadata": {},
   "outputs": [],
   "source": [
    "acpa_dataframe = pd.DataFrame(patient_acpa_stati, index = np.arange(len(patient_acpa_stati)))\n",
    "\n",
    "acpa_dataframe.to_csv('./data/patient_acpa_data.csv', index = False)"
   ]
  },
  {
   "cell_type": "code",
   "execution_count": null,
   "metadata": {},
   "outputs": [],
   "source": []
  }
 ],
 "metadata": {
  "kernelspec": {
   "display_name": "Python 3",
   "language": "python",
   "name": "python3"
  },
  "language_info": {
   "codemirror_mode": {
    "name": "ipython",
    "version": 3
   },
   "file_extension": ".py",
   "mimetype": "text/x-python",
   "name": "python",
   "nbconvert_exporter": "python",
   "pygments_lexer": "ipython3",
   "version": "3.8.5"
  }
 },
 "nbformat": 4,
 "nbformat_minor": 4
}
