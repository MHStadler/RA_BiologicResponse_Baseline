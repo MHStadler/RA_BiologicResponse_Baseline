{
 "cells": [
  {
   "cell_type": "code",
   "execution_count": 1,
   "metadata": {},
   "outputs": [],
   "source": [
    "import glob\n",
    "import numpy as np\n",
    "import pickle\n",
    "\n",
    "def print_adjusted_cont_metrics(das_type, treatment, outcome_col = '2cdas_fu'):\n",
    "    apparent_res_struct = pickle.load(open(f'./data/results/{treatment}/{outcome_col}/{das_type}_{treatment}_{outcome_col}_apparent_eval.data', \"rb\"))\n",
    "    \n",
    "    boot_files = glob.glob(f'./data/results/{treatment}/{outcome_col}/bootstraps/{das_type}*.data')\n",
    "    \n",
    "    n_boot_files = len(boot_files)\n",
    "    print(f'Processing {n_boot_files} bootstrap files')\n",
    "    \n",
    "    mae_optimism = np.zeros(n_boot_files)\n",
    "    mse_optimism = np.zeros(n_boot_files)\n",
    "    r2_optimism = np.zeros(n_boot_files)\n",
    "    \n",
    "    for idx, boot_file in enumerate(boot_files):\n",
    "        res_struct = pickle.load(open(boot_file, \"rb\"))\n",
    "        \n",
    "        mae_optimism[idx] = res_struct['boot_apparent_performance']['mae'] - res_struct['mae']\n",
    "        mse_optimism[idx] = res_struct['boot_apparent_performance']['mse'] - res_struct['mse']\n",
    "        r2_optimism[idx] = res_struct['boot_apparent_performance']['r2'] - res_struct['r2']\n",
    "        \n",
    "    mae = apparent_res_struct['mae']\n",
    "    adjusted_mae = mae - np.mean(mae_optimism)\n",
    "    mae_iqr = apparent_res_struct['mae_values_iqr']\n",
    "    mae_lower_bound = adjusted_mae - mae_iqr\n",
    "    mae_uper_bound = adjusted_mae + mae_iqr\n",
    "    \n",
    "    mse = apparent_res_struct['mse']\n",
    "    adjusted_mse = mse - np.mean(mse_optimism)\n",
    "    mse_iqr = apparent_res_struct['mse_values_iqr']\n",
    "    mse_lower_bound = adjusted_mse - mse_iqr\n",
    "    mse_uper_bound = adjusted_mse + mse_iqr\n",
    "    \n",
    "    r2 = apparent_res_struct['r2']\n",
    "    adjusted_r2 = r2 - np.mean(r2_optimism)\n",
    "    r2_iqr = apparent_res_struct['r2_iqr']\n",
    "    r2_lower_bound = adjusted_r2 - r2_iqr\n",
    "    r2_uper_bound = adjusted_r2 + r2_iqr\n",
    "        \n",
    "    print('---------')\n",
    "    print(f'Performance for {das_type} - {treatment} - {outcome_col}')\n",
    "    print(f'MAE: {mae:0.3f}')\n",
    "    print(f'Adjusted MAE: {adjusted_mae:0.3f} +/- {mae_iqr:0.3f} (IQR: {mae_lower_bound:0.3f} - {mae_uper_bound:0.3f})')\n",
    "    print(f'MSE: {mse:0.3f}')\n",
    "    print(f'Adjusted MSE: {adjusted_mse:0.3f} +/- {mse_iqr:0.3f} (IQR: {mse_lower_bound:0.3f} - {mse_uper_bound:0.3f})')\n",
    "    print(f'R2: {r2:0.3f}')\n",
    "    print(f'Adjusted R2: {adjusted_r2:0.3f} +/- {r2_iqr:0.3f} (IQR: {r2_lower_bound:0.3f} - {r2_uper_bound:0.3f})')\n",
    "    print('---------')"
   ]
  },
  {
   "cell_type": "code",
   "execution_count": 2,
   "metadata": {},
   "outputs": [
    {
     "name": "stdout",
     "output_type": "stream",
     "text": [
      "Processing 500 bootstrap files\n",
      "---------\n",
      "Performance for crp - etanercept - 2cdas_fu\n",
      "MAE: 2.854\n",
      "Adjusted MAE: 2.922 +/- 0.005 (IQR: 2.917 - 2.927)\n",
      "MSE: 14.108\n",
      "Adjusted MSE: 14.800 +/- 0.026 (IQR: 14.774 - 14.826)\n",
      "R2: 0.177\n",
      "Adjusted R2: 0.139 +/- 0.002 (IQR: 0.138 - 0.141)\n",
      "---------\n"
     ]
    }
   ],
   "source": [
    "print_adjusted_cont_metrics('crp', 'etanercept')"
   ]
  },
  {
   "cell_type": "code",
   "execution_count": 3,
   "metadata": {},
   "outputs": [
    {
     "name": "stdout",
     "output_type": "stream",
     "text": [
      "Processing 500 bootstrap files\n",
      "---------\n",
      "Performance for crp - adalimumab - 2cdas_fu\n",
      "MAE: 2.773\n",
      "Adjusted MAE: 2.879 +/- 0.002 (IQR: 2.878 - 2.881)\n",
      "MSE: 13.572\n",
      "Adjusted MSE: 14.651 +/- 0.022 (IQR: 14.629 - 14.673)\n",
      "R2: 0.232\n",
      "Adjusted R2: 0.172 +/- 0.001 (IQR: 0.170 - 0.173)\n",
      "---------\n"
     ]
    }
   ],
   "source": [
    "print_adjusted_cont_metrics('crp', 'adalimumab')"
   ]
  },
  {
   "cell_type": "code",
   "execution_count": 4,
   "metadata": {},
   "outputs": [
    {
     "name": "stdout",
     "output_type": "stream",
     "text": [
      "Processing 500 bootstrap files\n",
      "---------\n",
      "Performance for esr - etanercept - 2cdas_fu\n",
      "MAE: 1.571\n",
      "Adjusted MAE: 1.616 +/- 0.004 (IQR: 1.612 - 1.620)\n",
      "MSE: 4.411\n",
      "Adjusted MSE: 4.662 +/- 0.016 (IQR: 4.645 - 4.678)\n",
      "R2: 0.184\n",
      "Adjusted R2: 0.141 +/- 0.003 (IQR: 0.138 - 0.144)\n",
      "---------\n"
     ]
    }
   ],
   "source": [
    "print_adjusted_cont_metrics('esr', 'etanercept')"
   ]
  },
  {
   "cell_type": "code",
   "execution_count": 5,
   "metadata": {},
   "outputs": [
    {
     "name": "stdout",
     "output_type": "stream",
     "text": [
      "Processing 500 bootstrap files\n",
      "---------\n",
      "Performance for esr - adalimumab - 2cdas_fu\n",
      "MAE: 1.528\n",
      "Adjusted MAE: 1.609 +/- 0.002 (IQR: 1.606 - 1.611)\n",
      "MSE: 4.071\n",
      "Adjusted MSE: 4.556 +/- 0.007 (IQR: 4.548 - 4.563)\n",
      "R2: 0.240\n",
      "Adjusted R2: 0.155 +/- 0.001 (IQR: 0.154 - 0.157)\n",
      "---------\n"
     ]
    }
   ],
   "source": [
    "print_adjusted_cont_metrics('esr', 'adalimumab')"
   ]
  },
  {
   "cell_type": "code",
   "execution_count": 6,
   "metadata": {},
   "outputs": [
    {
     "name": "stdout",
     "output_type": "stream",
     "text": [
      "Processing 500 bootstrap files\n",
      "---------\n",
      "Performance for crp - etanercept - 4cdas_fu\n",
      "MAE: 1.030\n",
      "Adjusted MAE: 1.053 +/- 0.002 (IQR: 1.051 - 1.055)\n",
      "MSE: 1.574\n",
      "Adjusted MSE: 1.645 +/- 0.006 (IQR: 1.639 - 1.651)\n",
      "R2: 0.156\n",
      "Adjusted R2: 0.118 +/- 0.003 (IQR: 0.115 - 0.122)\n",
      "---------\n"
     ]
    }
   ],
   "source": [
    "print_adjusted_cont_metrics('crp', 'etanercept', outcome_col = '4cdas_fu')"
   ]
  },
  {
   "cell_type": "code",
   "execution_count": 7,
   "metadata": {},
   "outputs": [
    {
     "name": "stdout",
     "output_type": "stream",
     "text": [
      "Processing 500 bootstrap files\n",
      "---------\n",
      "Performance for crp - adalimumab - 4cdas_fu\n",
      "MAE: 0.956\n",
      "Adjusted MAE: 0.996 +/- 0.001 (IQR: 0.995 - 0.997)\n",
      "MSE: 1.445\n",
      "Adjusted MSE: 1.570 +/- 0.002 (IQR: 1.568 - 1.571)\n",
      "R2: 0.222\n",
      "Adjusted R2: 0.160 +/- 0.001 (IQR: 0.159 - 0.161)\n",
      "---------\n"
     ]
    }
   ],
   "source": [
    "print_adjusted_cont_metrics('crp', 'adalimumab', outcome_col = '4cdas_fu')"
   ]
  },
  {
   "cell_type": "code",
   "execution_count": 8,
   "metadata": {},
   "outputs": [
    {
     "name": "stdout",
     "output_type": "stream",
     "text": [
      "Processing 500 bootstrap files\n",
      "---------\n",
      "Performance for esr - etanercept - 4cdas_fu\n",
      "MAE: 0.984\n",
      "Adjusted MAE: 1.011 +/- 0.001 (IQR: 1.010 - 1.013)\n",
      "MSE: 1.454\n",
      "Adjusted MSE: 1.535 +/- 0.003 (IQR: 1.532 - 1.539)\n",
      "R2: 0.158\n",
      "Adjusted R2: 0.115 +/- 0.002 (IQR: 0.113 - 0.117)\n",
      "---------\n"
     ]
    }
   ],
   "source": [
    "print_adjusted_cont_metrics('esr', 'etanercept', outcome_col = '4cdas_fu')"
   ]
  },
  {
   "cell_type": "code",
   "execution_count": 9,
   "metadata": {},
   "outputs": [
    {
     "name": "stdout",
     "output_type": "stream",
     "text": [
      "Processing 500 bootstrap files\n",
      "---------\n",
      "Performance for esr - adalimumab - 4cdas_fu\n",
      "MAE: 0.875\n",
      "Adjusted MAE: 0.923 +/- 0.002 (IQR: 0.921 - 0.924)\n",
      "MSE: 1.251\n",
      "Adjusted MSE: 1.389 +/- 0.005 (IQR: 1.384 - 1.394)\n",
      "R2: 0.232\n",
      "Adjusted R2: 0.152 +/- 0.003 (IQR: 0.149 - 0.156)\n",
      "---------\n"
     ]
    }
   ],
   "source": [
    "print_adjusted_cont_metrics('esr', 'adalimumab', outcome_col = '4cdas_fu')"
   ]
  }
 ],
 "metadata": {
  "kernelspec": {
   "display_name": "Python 3",
   "language": "python",
   "name": "python3"
  },
  "language_info": {
   "codemirror_mode": {
    "name": "ipython",
    "version": 3
   },
   "file_extension": ".py",
   "mimetype": "text/x-python",
   "name": "python",
   "nbconvert_exporter": "python",
   "pygments_lexer": "ipython3",
   "version": "3.8.5"
  }
 },
 "nbformat": 4,
 "nbformat_minor": 4
}
