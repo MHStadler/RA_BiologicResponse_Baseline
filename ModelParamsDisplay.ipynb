{
 "cells": [
  {
   "cell_type": "code",
   "execution_count": 9,
   "metadata": {},
   "outputs": [],
   "source": [
    "import json\n",
    "import numpy as np\n",
    "\n",
    "def print_model_parameters(das_type, treatment, outcome_col = 'class_bin'):\n",
    "    with open(f'./data/results/{treatment}/{outcome_col}/{das_type}_{treatment}_{outcome_col}_pooled_model_parameters.json') as json_file:\n",
    "        data = json.load(json_file)\n",
    "        \n",
    "        for idx, column in enumerate(data['columns']):\n",
    "            beta = data['pooled_coefs_1'][idx]\n",
    "            odds = np.exp(beta)\n",
    "            \n",
    "            print(f'{column} - {beta:0.4f} - {odds:0.2f}')"
   ]
  },
  {
   "cell_type": "code",
   "execution_count": 11,
   "metadata": {},
   "outputs": [
    {
     "name": "stdout",
     "output_type": "stream",
     "text": [
      "BIAS - 2.6259 - 13.82\n",
      "das_tend.0 - -0.0372 - 0.96\n",
      "das_vas.0 - -0.0024 - 1.00\n",
      "das_swol.0 - 0.0159 - 1.02\n",
      "crp.0 - -0.0017 - 1.00\n",
      "FIRSTBIO - 1.3466 - 3.84\n",
      "WEIGHT - 0.0006 - 1.00\n",
      "HEIGHT - -0.0156 - 0.98\n",
      "DISDUR - 0.0121 - 1.01\n",
      "SMOKE_current - -0.0205 - 0.98\n",
      "SMOKE_past - 0.3043 - 1.36\n",
      "AGEONSET - -0.0141 - 0.99\n",
      "HAQ - -0.6844 - 0.50\n",
      "SEX - -0.1153 - 0.89\n",
      "SERO - 0.9840 - 2.68\n",
      "CONCURRENT_DMARD - 0.1484 - 1.16\n"
     ]
    }
   ],
   "source": [
    "print_model_parameters('crp', 'etanercept')"
   ]
  },
  {
   "cell_type": "code",
   "execution_count": 10,
   "metadata": {},
   "outputs": [
    {
     "name": "stdout",
     "output_type": "stream",
     "text": [
      "BIAS - 3.8443 - 46.72\n",
      "das_tend.0 - -0.0059 - 0.99\n",
      "das_vas.0 - 0.0097 - 1.01\n",
      "das_swol.0 - -0.0091 - 0.99\n",
      "esr.0 - -0.0113 - 0.99\n",
      "FIRSTBIO - 0.7487 - 2.11\n",
      "WEIGHT - -0.0090 - 0.99\n",
      "HEIGHT - -0.0081 - 0.99\n",
      "DISDUR - 0.0195 - 1.02\n",
      "SMOKE_current - -0.1874 - 0.83\n",
      "SMOKE_past - 0.1532 - 1.17\n",
      "AGEONSET - -0.0276 - 0.97\n",
      "HAQ - -0.8250 - 0.44\n",
      "SEX - -0.4146 - 0.66\n",
      "SERO - -0.1558 - 0.86\n",
      "CONCURRENT_DMARD - 0.1576 - 1.17\n"
     ]
    }
   ],
   "source": [
    "print_model_parameters('esr', 'etanercept')"
   ]
  },
  {
   "cell_type": "code",
   "execution_count": 12,
   "metadata": {},
   "outputs": [
    {
     "name": "stdout",
     "output_type": "stream",
     "text": [
      "BIAS - -0.1044 - 0.90\n",
      "das_tend.0 - -0.0316 - 0.97\n",
      "das_vas.0 - 0.0009 - 1.00\n",
      "das_swol.0 - -0.0152 - 0.98\n",
      "crp.0 - -0.0011 - 1.00\n",
      "FIRSTBIO - 1.5701 - 4.81\n",
      "WEIGHT - -0.0198 - 0.98\n",
      "HEIGHT - 0.0061 - 1.01\n",
      "DISDUR - 0.0242 - 1.02\n",
      "SMOKE_current - -0.3221 - 0.72\n",
      "SMOKE_past - 0.0515 - 1.05\n",
      "AGEONSET - 0.0043 - 1.00\n",
      "HAQ - -0.4595 - 0.63\n",
      "SEX - 0.4373 - 1.55\n",
      "SERO - -0.5249 - 0.59\n",
      "CONCURRENT_DMARD - 0.4070 - 1.50\n"
     ]
    }
   ],
   "source": [
    "print_model_parameters('crp', 'adalimumab')"
   ]
  },
  {
   "cell_type": "code",
   "execution_count": 13,
   "metadata": {},
   "outputs": [
    {
     "name": "stdout",
     "output_type": "stream",
     "text": [
      "BIAS - -13.2488 - 0.00\n",
      "das_tend.0 - -0.0182 - 0.98\n",
      "das_vas.0 - -0.0036 - 1.00\n",
      "das_swol.0 - 0.0260 - 1.03\n",
      "esr.0 - -0.0097 - 0.99\n",
      "FIRSTBIO - 0.7187 - 2.05\n",
      "WEIGHT - -0.0347 - 0.97\n",
      "HEIGHT - 0.0891 - 1.09\n",
      "DISDUR - 0.0277 - 1.03\n",
      "SMOKE_current - -0.4715 - 0.62\n",
      "SMOKE_past - -0.4656 - 0.63\n",
      "AGEONSET - 0.0369 - 1.04\n",
      "HAQ - -0.7870 - 0.46\n",
      "SEX - 0.8906 - 2.44\n",
      "SERO - -0.8060 - 0.45\n",
      "CONCURRENT_DMARD - 0.7385 - 2.09\n"
     ]
    }
   ],
   "source": [
    "print_model_parameters('esr', 'adalimumab')"
   ]
  },
  {
   "cell_type": "code",
   "execution_count": null,
   "metadata": {},
   "outputs": [],
   "source": []
  }
 ],
 "metadata": {
  "kernelspec": {
   "display_name": "Python 3",
   "language": "python",
   "name": "python3"
  },
  "language_info": {
   "codemirror_mode": {
    "name": "ipython",
    "version": 3
   },
   "file_extension": ".py",
   "mimetype": "text/x-python",
   "name": "python",
   "nbconvert_exporter": "python",
   "pygments_lexer": "ipython3",
   "version": "3.8.5"
  }
 },
 "nbformat": 4,
 "nbformat_minor": 4
}
