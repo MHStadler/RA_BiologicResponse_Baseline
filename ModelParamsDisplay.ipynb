{
 "cells": [
  {
   "cell_type": "code",
   "execution_count": 1,
   "metadata": {},
   "outputs": [],
   "source": [
    "import json\n",
    "import numpy as np\n",
    "\n",
    "def print_model_parameters(das_type, treatment, outcome_col = 'class_bin'):\n",
    "    with open(f'./data/results/{treatment}/{outcome_col}/{das_type}_{treatment}_{outcome_col}_pooled_model_parameters.json') as json_file:\n",
    "        data = json.load(json_file)\n",
    "        \n",
    "        for idx, column in enumerate(data['columns']):\n",
    "            beta = data['pooled_coefs_1'][idx]\n",
    "            se = data['pooled_ses_1'][idx]\n",
    "            \n",
    "            ci_upper = beta + 1.96 * se\n",
    "            ci_lower = beta - 1.96 * se\n",
    "            \n",
    "            odds = np.exp(beta)\n",
    "            \n",
    "            print(f'{column} - {beta:0.4f} (95% CI: {ci_lower:0.4f} - {ci_upper:0.4f}) {odds:0.2f}')"
   ]
  },
  {
   "cell_type": "code",
   "execution_count": 2,
   "metadata": {},
   "outputs": [
    {
     "name": "stdout",
     "output_type": "stream",
     "text": [
      "BIAS - 4.3982 (95% CI: -1.5528 - 10.3493) 81.31\n",
      "das_tend.0 - 0.1815 (95% CI: 0.1378 - 0.2253) 1.20\n",
      "das_vas.0 - -0.0194 (95% CI: -0.0351 - -0.0037) 0.98\n",
      "das_swol.0 - -0.0400 (95% CI: -0.0963 - 0.0164) 0.96\n",
      "crp.0 - 0.0018 (95% CI: -0.0092 - 0.0128) 1.00\n",
      "FIRSTBIO - -0.7074 (95% CI: -1.7004 - 0.2856) 0.49\n",
      "WEIGHT - 0.0095 (95% CI: -0.0055 - 0.0246) 1.01\n",
      "HEIGHT - -0.0142 (95% CI: -0.0428 - 0.0144) 0.99\n",
      "DISDUR - -0.0341 (95% CI: -0.0670 - -0.0013) 0.97\n",
      "AGEONSET - 0.0251 (95% CI: 0.0008 - 0.0494) 1.03\n",
      "HAQ - 1.3407 (95% CI: 0.8003 - 1.8811) 3.82\n",
      "SEX - 0.1434 (95% CI: -0.6634 - 0.9503) 1.15\n",
      "SERO - -0.9724 (95% CI: -1.7430 - -0.2018) 0.38\n",
      "CONCURRENT_DMARD - -0.5359 (95% CI: -1.2630 - 0.1911) 0.59\n",
      "HAD_D - -0.0771 (95% CI: -0.1854 - 0.0312) 0.93\n",
      "HAD_A - 0.0960 (95% CI: 0.0074 - 0.1845) 1.10\n"
     ]
    }
   ],
   "source": [
    "print_model_parameters('crp', 'etanercept', outcome_col = '2cdas_fu')"
   ]
  },
  {
   "cell_type": "code",
   "execution_count": 2,
   "metadata": {},
   "outputs": [
    {
     "name": "stdout",
     "output_type": "stream",
     "text": [
      "BIAS - 1.2808 - 3.60\n",
      "das_tend.0 - 0.0087 - 1.01\n",
      "das_vas.0 - -0.0184 - 0.98\n",
      "das_swol.0 - -0.0547 - 0.95\n",
      "crp.0 - -0.0079 - 0.99\n",
      "FIRSTBIO - -0.7997 - 0.45\n",
      "WEIGHT - -0.0009 - 1.00\n",
      "HEIGHT - -0.0079 - 0.99\n",
      "DISDUR - -0.0136 - 0.99\n",
      "AGEONSET - 0.0107 - 1.01\n",
      "HAQ - 0.8962 - 2.45\n",
      "SEX - -0.2040 - 0.82\n",
      "SERO - -0.3850 - 0.68\n",
      "CONCURRENT_DMARD - -0.1145 - 0.89\n",
      "HAD_D - -0.0556 - 0.95\n",
      "HAD_A - 0.0332 - 1.03\n"
     ]
    }
   ],
   "source": [
    "print_model_parameters('crp', 'etanercept', outcome_col = 'class_poor')"
   ]
  },
  {
   "cell_type": "code",
   "execution_count": 3,
   "metadata": {},
   "outputs": [
    {
     "name": "stdout",
     "output_type": "stream",
     "text": [
      "BIAS - 2.7053 - 14.96\n",
      "das_tend.0 - -0.0118 - 0.99\n",
      "das_vas.0 - -0.0191 - 0.98\n",
      "das_swol.0 - -0.0631 - 0.94\n",
      "esr.0 - -0.0165 - 0.98\n",
      "FIRSTBIO - -0.7278 - 0.48\n",
      "WEIGHT - 0.0028 - 1.00\n",
      "HEIGHT - -0.0126 - 0.99\n",
      "DISDUR - -0.0157 - 0.98\n",
      "AGEONSET - 0.0121 - 1.01\n",
      "HAQ - 0.8528 - 2.35\n",
      "SEX - 0.0602 - 1.06\n",
      "SERO - -0.0906 - 0.91\n",
      "CONCURRENT_DMARD - -0.5053 - 0.60\n",
      "HAD_D - -0.0640 - 0.94\n",
      "HAD_A - 0.0023 - 1.00\n"
     ]
    }
   ],
   "source": [
    "print_model_parameters('esr', 'etanercept', outcome_col = 'class_poor')"
   ]
  },
  {
   "cell_type": "code",
   "execution_count": 4,
   "metadata": {},
   "outputs": [
    {
     "name": "stdout",
     "output_type": "stream",
     "text": [
      "BIAS - -3.8260 - 0.02\n",
      "das_tend.0 - -0.0315 - 0.97\n",
      "das_vas.0 - 0.0131 - 1.01\n",
      "das_swol.0 - -0.0259 - 0.97\n",
      "crp.0 - -0.0005 - 1.00\n",
      "FIRSTBIO - 1.3891 - 4.01\n",
      "WEIGHT - -0.0348 - 0.97\n",
      "HEIGHT - 0.0378 - 1.04\n",
      "DISDUR - -0.0130 - 0.99\n",
      "SMOKE_current - 0.1546 - 1.17\n",
      "SMOKE_past - 0.3614 - 1.44\n",
      "AGEONSET - -0.0144 - 0.99\n",
      "HAQ - -0.5267 - 0.59\n",
      "SEX - -0.5369 - 0.58\n",
      "SERO - -0.3155 - 0.73\n",
      "CONCURRENT_DMARD - 0.9328 - 2.54\n",
      "HAD_D - 0.0441 - 1.05\n",
      "HAD_A - -0.0537 - 0.95\n"
     ]
    }
   ],
   "source": [
    "print_model_parameters('crp', 'adalimumab')"
   ]
  },
  {
   "cell_type": "code",
   "execution_count": 5,
   "metadata": {},
   "outputs": [
    {
     "name": "stdout",
     "output_type": "stream",
     "text": [
      "BIAS - -3.8886 - 0.02\n",
      "das_tend.0 - -0.0409 - 0.96\n",
      "das_vas.0 - 0.0204 - 1.02\n",
      "das_swol.0 - -0.0016 - 1.00\n",
      "esr.0 - 0.0015 - 1.00\n",
      "FIRSTBIO - 1.4193 - 4.13\n",
      "WEIGHT - -0.0255 - 0.97\n",
      "HEIGHT - 0.0293 - 1.03\n",
      "DISDUR - -0.0256 - 0.97\n",
      "SMOKE_current - -0.0337 - 0.97\n",
      "SMOKE_past - 0.7961 - 2.22\n",
      "AGEONSET - -0.0131 - 0.99\n",
      "HAQ - -0.8403 - 0.43\n",
      "SEX - -0.7746 - 0.46\n",
      "SERO - 0.2912 - 1.34\n",
      "CONCURRENT_DMARD - 1.0151 - 2.76\n",
      "HAD_D - 0.0033 - 1.00\n",
      "HAD_A - -0.0782 - 0.92\n"
     ]
    }
   ],
   "source": [
    "print_model_parameters('esr', 'adalimumab')"
   ]
  },
  {
   "cell_type": "code",
   "execution_count": null,
   "metadata": {},
   "outputs": [],
   "source": []
  }
 ],
 "metadata": {
  "kernelspec": {
   "display_name": "Python 3",
   "language": "python",
   "name": "python3"
  },
  "language_info": {
   "codemirror_mode": {
    "name": "ipython",
    "version": 3
   },
   "file_extension": ".py",
   "mimetype": "text/x-python",
   "name": "python",
   "nbconvert_exporter": "python",
   "pygments_lexer": "ipython3",
   "version": "3.8.5"
  }
 },
 "nbformat": 4,
 "nbformat_minor": 4
}
