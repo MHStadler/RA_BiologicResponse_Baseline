{
 "cells": [
  {
   "cell_type": "code",
   "execution_count": 1,
   "metadata": {},
   "outputs": [],
   "source": [
    "import glob\n",
    "import numpy as np\n",
    "import pickle\n",
    "\n",
    "def print_adjusted_metrics(das_type, treatment, outcome_col = 'class_bin'):\n",
    "    apparent_res_struct = pickle.load(open(f'./data/results/{treatment}/{outcome_col}/{das_type}_{treatment}_{outcome_col}_apparent_eval.data', \"rb\"))\n",
    "    \n",
    "    boot_files = glob.glob(f'./data/results/{treatment}/{outcome_col}/bootstraps/{das_type}*.data')\n",
    "    \n",
    "    n_boot_files = len(boot_files)\n",
    "    print(f'Processing {n_boot_files} bootstrap files')\n",
    "    \n",
    "    brier_score_optimism = np.zeros(n_boot_files)\n",
    "    auc_optimism = np.zeros(n_boot_files)\n",
    "    citl_optimism = []\n",
    "    cal_slope_optimism = []\n",
    "    \n",
    "    for idx, boot_file in enumerate(boot_files):\n",
    "        res_struct = pickle.load(open(boot_file, \"rb\"))\n",
    "        \n",
    "        brier_score_optimism[idx] = res_struct['acc_measure_optimism']\n",
    "        auc_optimism[idx] = res_struct['auc_optimism']\n",
    "        citl_optimism.append(res_struct['citl_optimism'])\n",
    "        cal_slope_optimism.append(res_struct['cal_slope_optimism'])\n",
    "        \n",
    "    citl_optimism = np.array(citl_optimism)\n",
    "    cal_slope_optimism = np.array(cal_slope_optimism)\n",
    "    \n",
    "    acc = apparent_res_struct['acc_measure']\n",
    "    adjusted_brier_score = apparent_res_struct['acc_measure'] - np.mean(brier_score_optimism)\n",
    "    acc_iqr = apparent_res_struct['acc_measure_iqr']\n",
    "    acc_lower_bound = adjusted_brier_score - apparent_res_struct['acc_measure_iqr']\n",
    "    acc_uper_bound = adjusted_brier_score + apparent_res_struct['acc_measure_iqr']\n",
    "    \n",
    "    auc = apparent_res_struct['auc']\n",
    "    adjusted_auc = apparent_res_struct['auc'] - np.mean(auc_optimism)\n",
    "    auc_iqr = apparent_res_struct['auc_iqr']\n",
    "    auc_lower_bound = adjusted_auc - apparent_res_struct['auc_iqr']\n",
    "    auc_upper_bound = adjusted_auc + apparent_res_struct['auc_iqr']\n",
    "    \n",
    "    citl = apparent_res_struct['citl']\n",
    "    citl = np.atleast_1d(citl)\n",
    "    adjusted_citl = apparent_res_struct['citl'] - np.mean(citl_optimism, axis = 0)\n",
    "    adjusted_citl = np.atleast_1d(adjusted_citl)\n",
    "    citl_iqr = apparent_res_struct['citl_iqr']\n",
    "    citl_iqr = np.atleast_1d(citl_iqr)\n",
    "    citl_lower_bound = adjusted_citl - apparent_res_struct['citl_iqr']\n",
    "    citl_lower_bound = np.atleast_1d(citl_lower_bound)\n",
    "    citl_upper_bound = adjusted_citl + apparent_res_struct['citl_iqr']\n",
    "    citl_upper_bound = np.atleast_1d(citl_upper_bound)\n",
    "    \n",
    "    cal_slope = apparent_res_struct['cal_slope']\n",
    "    cal_slope = np.atleast_1d(cal_slope)\n",
    "    adjusted_cal_slope = apparent_res_struct['cal_slope'] - np.mean(cal_slope_optimism, axis = 0)\n",
    "    adjusted_cal_slope = np.atleast_1d(adjusted_cal_slope)\n",
    "    cal_slope_iqr = apparent_res_struct['cal_slope_iqr']\n",
    "    cal_slope_iqr = np.atleast_1d(cal_slope_iqr)\n",
    "    cal_slope_lower_bound = adjusted_cal_slope - apparent_res_struct['cal_slope_iqr']\n",
    "    cal_slope_lower_bound = np.atleast_1d(cal_slope_lower_bound)\n",
    "    cal_slope_upper_bound = adjusted_cal_slope + apparent_res_struct['cal_slope_iqr']\n",
    "    cal_slope_upper_bound = np.atleast_1d(cal_slope_upper_bound)\n",
    "        \n",
    "    print('---------')\n",
    "    print(f'Performance for {das_type} - {treatment} - {outcome_col}')\n",
    "    print(f'Acc: {acc:0.4f}')\n",
    "    print(f'Adjusted Acc Measure: {adjusted_brier_score:0.4f} +/- {acc_iqr:0.4f} (IQR: {acc_lower_bound:0.4f} - {acc_uper_bound:0.4f})')\n",
    "    print(f'AUC: {auc:0.4f}')\n",
    "    print(f'Adjusted AUC: {adjusted_auc:0.4f} +/- {auc_iqr:0.4f} (IQR: {auc_lower_bound:0.4f} - {auc_upper_bound:0.4f})')\n",
    "    \n",
    "    for idx, _ in enumerate(adjusted_citl):\n",
    "        print(f'Citl_{idx}: {citl[idx]:0.4f}')\n",
    "        print(f'Adjusted CITL_{idx}: {adjusted_citl[idx]:0.4f} +/- {citl_iqr[idx]:0.4f} (IQR: {citl_lower_bound[idx]:0.4f} - {citl_upper_bound[idx]:0.4f})')\n",
    "    for idx, _ in enumerate(adjusted_cal_slope):\n",
    "        print(f'Slope_{idx}: {cal_slope[idx]:0.4f}')\n",
    "        print(f'Adjusted Cal Slope_{idx}: {adjusted_cal_slope[idx]:0.4f} +/- {cal_slope_iqr[idx]:0.4f} (IQR: {cal_slope_lower_bound[idx]:0.4f} - {cal_slope_upper_bound[idx]:0.4f})')\n",
    "    \n",
    "    print('---------')"
   ]
  },
  {
   "cell_type": "code",
   "execution_count": 2,
   "metadata": {},
   "outputs": [
    {
     "name": "stdout",
     "output_type": "stream",
     "text": [
      "Processing 500 bootstrap files\n",
      "---------\n",
      "Performance for crp - etanercept - class_bin\n",
      "Acc: 0.2200\n",
      "Adjusted Acc Measure: 0.2391 +/- 0.0013 (IQR: 0.2378 - 0.2403)\n",
      "AUC: 0.7026\n",
      "Adjusted AUC: 0.6517 +/- 0.0040 (IQR: 0.6478 - 0.6557)\n",
      "Citl_0: -0.0006\n",
      "Adjusted CITL_0: 0.0238 +/- 0.0121 (IQR: 0.0117 - 0.0360)\n",
      "Slope_0: 1.0017\n",
      "Adjusted Cal Slope_0: 0.7167 +/- 0.0249 (IQR: 0.6918 - 0.7416)\n",
      "---------\n"
     ]
    }
   ],
   "source": [
    "print_adjusted_metrics('crp', 'etanercept')"
   ]
  },
  {
   "cell_type": "code",
   "execution_count": 3,
   "metadata": {},
   "outputs": [
    {
     "name": "stdout",
     "output_type": "stream",
     "text": [
      "Processing 500 bootstrap files\n",
      "---------\n",
      "Performance for esr - etanercept - class_bin\n",
      "Acc: 0.2153\n",
      "Adjusted Acc Measure: 0.2353 +/- 0.0021 (IQR: 0.2332 - 0.2374)\n",
      "AUC: 0.7086\n",
      "Adjusted AUC: 0.6574 +/- 0.0060 (IQR: 0.6514 - 0.6634)\n",
      "Citl_0: 0.0073\n",
      "Adjusted CITL_0: 0.0100 +/- 0.0269 (IQR: -0.0170 - 0.0369)\n",
      "Slope_0: 1.0122\n",
      "Adjusted Cal Slope_0: 0.7471 +/- 0.0409 (IQR: 0.7062 - 0.7879)\n",
      "---------\n"
     ]
    }
   ],
   "source": [
    "print_adjusted_metrics('esr', 'etanercept')"
   ]
  },
  {
   "cell_type": "code",
   "execution_count": 4,
   "metadata": {},
   "outputs": [
    {
     "name": "stdout",
     "output_type": "stream",
     "text": [
      "Processing 500 bootstrap files\n",
      "---------\n",
      "Performance for crp - adalimumab - class_bin\n",
      "Acc: 0.2159\n",
      "Adjusted Acc Measure: 0.2571 +/- 0.0009 (IQR: 0.2563 - 0.2580)\n",
      "AUC: 0.7150\n",
      "Adjusted AUC: 0.6221 +/- 0.0034 (IQR: 0.6186 - 0.6255)\n",
      "Citl_0: -0.0005\n",
      "Adjusted CITL_0: 0.0193 +/- 0.0020 (IQR: 0.0173 - 0.0213)\n",
      "Slope_0: 1.0007\n",
      "Adjusted Cal Slope_0: 0.5033 +/- 0.0145 (IQR: 0.4888 - 0.5179)\n",
      "---------\n"
     ]
    }
   ],
   "source": [
    "print_adjusted_metrics('crp', 'adalimumab')"
   ]
  },
  {
   "cell_type": "code",
   "execution_count": 5,
   "metadata": {},
   "outputs": [
    {
     "name": "stdout",
     "output_type": "stream",
     "text": [
      "Processing 500 bootstrap files\n",
      "---------\n",
      "Performance for esr - adalimumab - class_bin\n",
      "Acc: 0.1959\n",
      "Adjusted Acc Measure: 0.2386 +/- 0.0037 (IQR: 0.2348 - 0.2423)\n",
      "AUC: 0.7683\n",
      "Adjusted AUC: 0.6818 +/- 0.0112 (IQR: 0.6706 - 0.6930)\n",
      "Citl_0: 0.0055\n",
      "Adjusted CITL_0: -0.0284 +/- 0.0197 (IQR: -0.0481 - -0.0087)\n",
      "Slope_0: 1.0129\n",
      "Adjusted Cal Slope_0: 0.5971 +/- 0.0461 (IQR: 0.5511 - 0.6432)\n",
      "---------\n"
     ]
    }
   ],
   "source": [
    "print_adjusted_metrics('esr', 'adalimumab')"
   ]
  },
  {
   "cell_type": "code",
   "execution_count": null,
   "metadata": {},
   "outputs": [],
   "source": []
  },
  {
   "cell_type": "code",
   "execution_count": 10,
   "metadata": {},
   "outputs": [
    {
     "name": "stdout",
     "output_type": "stream",
     "text": [
      "Processing 500 bootstrap files\n",
      "---------\n",
      "Performance for crp - etanercept - class\n",
      "Acc: 0.5754\n",
      "Adjusted Acc Measure: 0.5270 +/- 0.0049 (IQR: 0.5221 - 0.5319)\n",
      "AUC: 0.6892\n",
      "Adjusted AUC: 0.6150 +/- 0.0044 (IQR: 0.6106 - 0.6194)\n",
      "Citl_0: -0.3672\n",
      "Adjusted CITL_0: -0.4413 +/- 0.0033 (IQR: -0.4446 - -0.4380)\n",
      "Citl_1: -0.9426\n",
      "Adjusted CITL_1: -1.2002 +/- 0.0106 (IQR: -1.2108 - -1.1896)\n",
      "Slope_0: 0.7361\n",
      "Adjusted Cal Slope_0: 0.4870 +/- 0.0123 (IQR: 0.4747 - 0.4992)\n",
      "Slope_1: 0.7327\n",
      "Adjusted Cal Slope_1: 0.4587 +/- 0.0254 (IQR: 0.4334 - 0.4841)\n",
      "---------\n"
     ]
    }
   ],
   "source": [
    "print_adjusted_metrics('crp', 'etanercept', outcome_col = 'class')"
   ]
  },
  {
   "cell_type": "code",
   "execution_count": 12,
   "metadata": {},
   "outputs": [
    {
     "name": "stdout",
     "output_type": "stream",
     "text": [
      "Processing 500 bootstrap files\n",
      "---------\n",
      "Performance for esr - etanercept - class\n",
      "Acc: 0.5518\n",
      "Adjusted Acc Measure: 0.5008 +/- 0.0026 (IQR: 0.4982 - 0.5034)\n",
      "AUC: 0.6951\n",
      "Adjusted AUC: 0.6250 +/- 0.0042 (IQR: 0.6208 - 0.6293)\n",
      "Citl_0: -0.3770\n",
      "Adjusted CITL_0: -0.4167 +/- 0.0101 (IQR: -0.4267 - -0.4066)\n",
      "Citl_1: -0.9147\n",
      "Adjusted CITL_1: -1.1384 +/- 0.0197 (IQR: -1.1581 - -1.1186)\n",
      "Slope_0: 0.7960\n",
      "Adjusted Cal Slope_0: 0.5355 +/- 0.0463 (IQR: 0.4892 - 0.5818)\n",
      "Slope_1: 0.7460\n",
      "Adjusted Cal Slope_1: 0.4662 +/- 0.0055 (IQR: 0.4607 - 0.4718)\n",
      "---------\n"
     ]
    }
   ],
   "source": [
    "print_adjusted_metrics('esr', 'etanercept', outcome_col = 'class')"
   ]
  },
  {
   "cell_type": "code",
   "execution_count": 11,
   "metadata": {},
   "outputs": [
    {
     "name": "stdout",
     "output_type": "stream",
     "text": [
      "Processing 500 bootstrap files\n",
      "---------\n",
      "Performance for crp - adalimumab - class\n",
      "Acc: 0.5970\n",
      "Adjusted Acc Measure: 0.5011 +/- 0.0050 (IQR: 0.4961 - 0.5061)\n",
      "AUC: 0.7312\n",
      "Adjusted AUC: 0.6196 +/- 0.0022 (IQR: 0.6174 - 0.6218)\n",
      "Citl_0: -0.3589\n",
      "Adjusted CITL_0: -0.4614 +/- 0.0027 (IQR: -0.4641 - -0.4587)\n",
      "Citl_1: -0.8019\n",
      "Adjusted CITL_1: -1.1121 +/- 0.0080 (IQR: -1.1201 - -1.1041)\n",
      "Slope_0: 0.8246\n",
      "Adjusted Cal Slope_0: 0.4369 +/- 0.0120 (IQR: 0.4249 - 0.4489)\n",
      "Slope_1: 0.8179\n",
      "Adjusted Cal Slope_1: 0.4376 +/- 0.0187 (IQR: 0.4189 - 0.4563)\n",
      "---------\n"
     ]
    }
   ],
   "source": [
    "print_adjusted_metrics('crp', 'adalimumab', outcome_col = 'class')"
   ]
  },
  {
   "cell_type": "code",
   "execution_count": 8,
   "metadata": {},
   "outputs": [
    {
     "name": "stdout",
     "output_type": "stream",
     "text": [
      "Processing 500 bootstrap files\n",
      "---------\n",
      "Performance for esr - adalimumab - class\n",
      "Acc: 0.6221\n",
      "Adjusted Acc Measure: 0.5174 +/- 0.0058 (IQR: 0.5116 - 0.5232)\n",
      "AUC: 0.7745\n",
      "Adjusted AUC: 0.6640 +/- 0.0077 (IQR: 0.6562 - 0.6717)\n",
      "Citl_0: -0.3771\n",
      "Adjusted CITL_0: -0.3822 +/- 0.0151 (IQR: -0.3973 - -0.3671)\n",
      "Citl_1: -1.3787\n",
      "Adjusted CITL_1: -1.5760 +/- 0.0096 (IQR: -1.5856 - -1.5663)\n",
      "Slope_0: 0.8005\n",
      "Adjusted Cal Slope_0: 0.4979 +/- 0.0170 (IQR: 0.4810 - 0.5149)\n",
      "Slope_1: 0.2924\n",
      "Adjusted Cal Slope_1: 0.0291 +/- 0.0074 (IQR: 0.0217 - 0.0364)\n",
      "---------\n"
     ]
    }
   ],
   "source": [
    "print_adjusted_metrics('esr', 'adalimumab', outcome_col = 'class')"
   ]
  },
  {
   "cell_type": "code",
   "execution_count": null,
   "metadata": {},
   "outputs": [],
   "source": []
  }
 ],
 "metadata": {
  "kernelspec": {
   "display_name": "Python 3",
   "language": "python",
   "name": "python3"
  },
  "language_info": {
   "codemirror_mode": {
    "name": "ipython",
    "version": 3
   },
   "file_extension": ".py",
   "mimetype": "text/x-python",
   "name": "python",
   "nbconvert_exporter": "python",
   "pygments_lexer": "ipython3",
   "version": "3.8.5"
  }
 },
 "nbformat": 4,
 "nbformat_minor": 4
}
