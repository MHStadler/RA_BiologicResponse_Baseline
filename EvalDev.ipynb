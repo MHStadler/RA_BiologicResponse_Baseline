{
 "cells": [
  {
   "cell_type": "code",
   "execution_count": 1,
   "metadata": {},
   "outputs": [],
   "source": [
    "import glob\n",
    "import numpy as np\n",
    "import pickle\n",
    "\n",
    "def print_adjusted_metrics(das_type, treatment, outcome_col = 'class_bin'):\n",
    "    apparent_res_struct = pickle.load(open(f'./data/results/{treatment}/{outcome_col}/{das_type}_{treatment}_{outcome_col}_apparent_eval.data', \"rb\"))\n",
    "    \n",
    "    boot_files = glob.glob(f'./data/results/{treatment}/{outcome_col}/bootstraps/{das_type}*.data')\n",
    "    \n",
    "    n_boot_files = len(boot_files)\n",
    "    print(f'Processing {n_boot_files} bootstrap files')\n",
    "    \n",
    "    brier_score_optimism = np.zeros(n_boot_files)\n",
    "    auc_optimism = np.zeros(n_boot_files)\n",
    "    citl_optimism = []\n",
    "    cal_slope_optimism = []\n",
    "    \n",
    "    for idx, boot_file in enumerate(boot_files):\n",
    "        res_struct = pickle.load(open(boot_file, \"rb\"))\n",
    "        \n",
    "        brier_score_optimism[idx] = res_struct['acc_measure_optimism']\n",
    "        auc_optimism[idx] = res_struct['auc_optimism']\n",
    "        citl_optimism.append(res_struct['citl_optimism'])\n",
    "        cal_slope_optimism.append(res_struct['cal_slope_optimism'])\n",
    "        \n",
    "    citl_optimism = np.array(citl_optimism)\n",
    "    cal_slope_optimism = np.array(cal_slope_optimism)\n",
    "    \n",
    "    acc = apparent_res_struct['acc_measure']\n",
    "    adjusted_brier_score = apparent_res_struct['acc_measure'] - np.mean(brier_score_optimism)\n",
    "    acc_iqr = apparent_res_struct['acc_measure_iqr']\n",
    "    acc_lower_bound = adjusted_brier_score - apparent_res_struct['acc_measure_iqr']\n",
    "    acc_uper_bound = adjusted_brier_score + apparent_res_struct['acc_measure_iqr']\n",
    "    \n",
    "    auc = apparent_res_struct['auc']\n",
    "    adjusted_auc = apparent_res_struct['auc'] - np.mean(auc_optimism)\n",
    "    auc_iqr = apparent_res_struct['auc_iqr']\n",
    "    auc_lower_bound = adjusted_auc - apparent_res_struct['auc_iqr']\n",
    "    auc_upper_bound = adjusted_auc + apparent_res_struct['auc_iqr']\n",
    "    \n",
    "    citl = apparent_res_struct['citl']\n",
    "    citl = np.atleast_1d(citl)\n",
    "    adjusted_citl = apparent_res_struct['citl'] - np.mean(citl_optimism, axis = 0)\n",
    "    adjusted_citl = np.atleast_1d(adjusted_citl)\n",
    "    citl_iqr = apparent_res_struct['citl_iqr']\n",
    "    citl_iqr = np.atleast_1d(citl_iqr)\n",
    "    citl_lower_bound = adjusted_citl - apparent_res_struct['citl_iqr']\n",
    "    citl_lower_bound = np.atleast_1d(citl_lower_bound)\n",
    "    citl_upper_bound = adjusted_citl + apparent_res_struct['citl_iqr']\n",
    "    citl_upper_bound = np.atleast_1d(citl_upper_bound)\n",
    "    \n",
    "    cal_slope = apparent_res_struct['cal_slope']\n",
    "    cal_slope = np.atleast_1d(cal_slope)\n",
    "    adjusted_cal_slope = apparent_res_struct['cal_slope'] - np.mean(cal_slope_optimism, axis = 0)\n",
    "    adjusted_cal_slope = np.atleast_1d(adjusted_cal_slope)\n",
    "    cal_slope_iqr = apparent_res_struct['cal_slope_iqr']\n",
    "    cal_slope_iqr = np.atleast_1d(cal_slope_iqr)\n",
    "    cal_slope_lower_bound = adjusted_cal_slope - apparent_res_struct['cal_slope_iqr']\n",
    "    cal_slope_lower_bound = np.atleast_1d(cal_slope_lower_bound)\n",
    "    cal_slope_upper_bound = adjusted_cal_slope + apparent_res_struct['cal_slope_iqr']\n",
    "    cal_slope_upper_bound = np.atleast_1d(cal_slope_upper_bound)\n",
    "        \n",
    "    print('---------')\n",
    "    print(f'Performance for {das_type} - {treatment} - {outcome_col}')\n",
    "    print(f'Acc: {acc:0.3f}')\n",
    "    print(f'Adjusted Acc Measure: {adjusted_brier_score:0.3f} +/- {acc_iqr:0.3f} (IQR: {acc_lower_bound:0.3f} - {acc_uper_bound:0.3f})')\n",
    "    print(f'AUC: {auc:0.3f}')\n",
    "    print(f'Adjusted AUC: {adjusted_auc:0.3f} +/- {auc_iqr:0.3f} (IQR: {auc_lower_bound:0.3f} - {auc_upper_bound:0.3f})')\n",
    "    \n",
    "    for idx, _ in enumerate(adjusted_citl):\n",
    "        print(f'Citl_{idx}: {citl[idx]:0.3f}')\n",
    "        print(f'Adjusted CITL_{idx}: {adjusted_citl[idx]:0.3f} +/- {citl_iqr[idx]:0.3f} (IQR: {citl_lower_bound[idx]:0.3f} - {citl_upper_bound[idx]:0.3f})')\n",
    "    for idx, _ in enumerate(adjusted_cal_slope):\n",
    "        print(f'Slope_{idx}: {cal_slope[idx]:0.3f}')\n",
    "        print(f'Adjusted Cal Slope_{idx}: {adjusted_cal_slope[idx]:0.3f} +/- {cal_slope_iqr[idx]:0.3f} (IQR: {cal_slope_lower_bound[idx]:0.3f} - {cal_slope_upper_bound[idx]:0.3f})')\n",
    "    \n",
    "    print('---------')"
   ]
  },
  {
   "cell_type": "code",
   "execution_count": 2,
   "metadata": {},
   "outputs": [],
   "source": [
    "def print_adjusted_cont_metrics(das_type, treatment, outcome_col = '2cdas_fu'):\n",
    "    apparent_res_struct = pickle.load(open(f'./data/results/{treatment}/{outcome_col}/{das_type}_{treatment}_{outcome_col}_apparent_eval.data', \"rb\"))\n",
    "    \n",
    "    boot_files = glob.glob(f'./data/results/{treatment}/{outcome_col}/bootstraps/{das_type}*.data')\n",
    "    \n",
    "    n_boot_files = len(boot_files)\n",
    "    print(f'Processing {n_boot_files} bootstrap files')\n",
    "    \n",
    "    mae_optimism = np.zeros(n_boot_files)\n",
    "    mse_optimism = np.zeros(n_boot_files)\n",
    "    r2_optimism = np.zeros(n_boot_files)\n",
    "    \n",
    "    for idx, boot_file in enumerate(boot_files):\n",
    "        res_struct = pickle.load(open(boot_file, \"rb\"))\n",
    "        \n",
    "        mae_optimism[idx] = res_struct['boot_apparent_performance']['mae'] - res_struct['mae']\n",
    "        mse_optimism[idx] = res_struct['boot_apparent_performance']['mse'] - res_struct['mse']\n",
    "        r2_optimism[idx] = res_struct['boot_apparent_performance']['r2'] - res_struct['r2']\n",
    "        \n",
    "    mae = apparent_res_struct['mae']\n",
    "    adjusted_mae = mae - np.mean(mae_optimism)\n",
    "    mae_iqr = apparent_res_struct['mae_values_iqr']\n",
    "    mae_lower_bound = adjusted_mae - mae_iqr\n",
    "    mae_uper_bound = adjusted_mae + mae_iqr\n",
    "    \n",
    "    mse = apparent_res_struct['mse']\n",
    "    adjusted_mse = mse - np.mean(mse_optimism)\n",
    "    mse_iqr = apparent_res_struct['mse_values_iqr']\n",
    "    mse_lower_bound = adjusted_mse - mse_iqr\n",
    "    mse_uper_bound = adjusted_mse + mse_iqr\n",
    "    \n",
    "    r2 = apparent_res_struct['r2']\n",
    "    adjusted_r2 = r2 - np.mean(r2_optimism)\n",
    "    r2_iqr = apparent_res_struct['r2_iqr']\n",
    "    r2_lower_bound = adjusted_r2 - r2_iqr\n",
    "    r2_uper_bound = adjusted_r2 + r2_iqr\n",
    "        \n",
    "    print('---------')\n",
    "    print(f'Performance for {das_type} - {treatment} - {outcome_col}')\n",
    "    print(f'MAE: {mae:0.3f}')\n",
    "    print(f'Adjusted MAE: {adjusted_mae:0.3f} +/- {mae_iqr:0.3f} (IQR: {mae_lower_bound:0.3f} - {mae_uper_bound:0.3f})')\n",
    "    print(f'MSE: {mse:0.3f}')\n",
    "    print(f'Adjusted MSE: {adjusted_mse:0.3f} +/- {mse_iqr:0.3f} (IQR: {mse_lower_bound:0.3f} - {mse_uper_bound:0.3f})')\n",
    "    print(f'R2: {r2:0.3f}')\n",
    "    print(f'Adjusted R2: {adjusted_r2:0.3f} +/- {r2_iqr:0.3f} (IQR: {r2_lower_bound:0.3f} - {r2_uper_bound:0.3f})')\n",
    "    print('---------')"
   ]
  },
  {
   "cell_type": "code",
   "execution_count": 2,
   "metadata": {},
   "outputs": [
    {
     "name": "stdout",
     "output_type": "stream",
     "text": [
      "Processing 500 bootstrap files\n",
      "---------\n",
      "Performance for crp - etanercept - class_poor\n",
      "Acc: 0.140\n",
      "Adjusted Acc Measure: 0.148 +/- 0.000 (IQR: 0.147 - 0.148)\n",
      "AUC: 0.703\n",
      "Adjusted AUC: 0.658 +/- 0.002 (IQR: 0.656 - 0.660)\n",
      "Citl_0: -0.001\n",
      "Adjusted CITL_0: -0.315 +/- 0.017 (IQR: -0.332 - -0.299)\n",
      "Slope_0: 1.000\n",
      "Adjusted Cal Slope_0: 0.765 +/- 0.011 (IQR: 0.755 - 0.776)\n",
      "---------\n"
     ]
    }
   ],
   "source": [
    "print_adjusted_metrics('crp', 'etanercept', outcome_col = 'class_poor')"
   ]
  },
  {
   "cell_type": "code",
   "execution_count": 3,
   "metadata": {},
   "outputs": [
    {
     "name": "stdout",
     "output_type": "stream",
     "text": [
      "Processing 500 bootstrap files\n",
      "---------\n",
      "Performance for esr - etanercept - class_poor\n",
      "Acc: 0.147\n",
      "Adjusted Acc Measure: 0.157 +/- 0.000 (IQR: 0.157 - 0.158)\n",
      "AUC: 0.717\n",
      "Adjusted AUC: 0.671 +/- 0.002 (IQR: 0.669 - 0.673)\n",
      "Citl_0: 0.003\n",
      "Adjusted CITL_0: -0.277 +/- 0.014 (IQR: -0.291 - -0.263)\n",
      "Slope_0: 1.001\n",
      "Adjusted Cal Slope_0: 0.761 +/- 0.011 (IQR: 0.751 - 0.772)\n",
      "---------\n"
     ]
    }
   ],
   "source": [
    "print_adjusted_metrics('esr', 'etanercept', outcome_col = 'class_poor')"
   ]
  },
  {
   "cell_type": "code",
   "execution_count": 4,
   "metadata": {},
   "outputs": [
    {
     "name": "stdout",
     "output_type": "stream",
     "text": [
      "Processing 500 bootstrap files\n",
      "---------\n",
      "Performance for crp - adalimumab - class_poor\n",
      "Acc: 0.127\n",
      "Adjusted Acc Measure: 0.141 +/- 0.000 (IQR: 0.141 - 0.141)\n",
      "AUC: 0.746\n",
      "Adjusted AUC: 0.683 +/- 0.001 (IQR: 0.682 - 0.684)\n",
      "Citl_0: 0.000\n",
      "Adjusted CITL_0: -0.402 +/- 0.005 (IQR: -0.407 - -0.397)\n",
      "Slope_0: 1.001\n",
      "Adjusted Cal Slope_0: 0.696 +/- 0.004 (IQR: 0.692 - 0.700)\n",
      "---------\n"
     ]
    }
   ],
   "source": [
    "print_adjusted_metrics('crp', 'adalimumab', outcome_col = 'class_poor')"
   ]
  },
  {
   "cell_type": "code",
   "execution_count": 5,
   "metadata": {},
   "outputs": [
    {
     "name": "stdout",
     "output_type": "stream",
     "text": [
      "Processing 500 bootstrap files\n",
      "---------\n",
      "Performance for esr - adalimumab - class_poor\n",
      "Acc: 0.134\n",
      "Adjusted Acc Measure: 0.152 +/- 0.001 (IQR: 0.152 - 0.153)\n",
      "AUC: 0.780\n",
      "Adjusted AUC: 0.722 +/- 0.002 (IQR: 0.720 - 0.725)\n",
      "Citl_0: -0.001\n",
      "Adjusted CITL_0: -0.308 +/- 0.011 (IQR: -0.319 - -0.297)\n",
      "Slope_0: 0.996\n",
      "Adjusted Cal Slope_0: 0.714 +/- 0.015 (IQR: 0.699 - 0.729)\n",
      "---------\n"
     ]
    }
   ],
   "source": [
    "print_adjusted_metrics('esr', 'adalimumab', outcome_col = 'class_poor')"
   ]
  },
  {
   "cell_type": "code",
   "execution_count": 6,
   "metadata": {},
   "outputs": [
    {
     "name": "stdout",
     "output_type": "stream",
     "text": [
      "Processing 500 bootstrap files\n",
      "---------\n",
      "Performance for crp - eta_ada - class_poor\n",
      "Acc: 0.141\n",
      "Adjusted Acc Measure: 0.146 +/- 0.000 (IQR: 0.146 - 0.146)\n",
      "AUC: 0.680\n",
      "Adjusted AUC: 0.648 +/- 0.001 (IQR: 0.647 - 0.649)\n",
      "Citl_0: -0.001\n",
      "Adjusted CITL_0: -0.247 +/- 0.009 (IQR: -0.256 - -0.237)\n",
      "Slope_0: 0.999\n",
      "Adjusted Cal Slope_0: 0.819 +/- 0.006 (IQR: 0.813 - 0.825)\n",
      "---------\n"
     ]
    }
   ],
   "source": [
    "print_adjusted_metrics('crp', 'eta_ada', outcome_col = 'class_poor')"
   ]
  },
  {
   "cell_type": "code",
   "execution_count": 7,
   "metadata": {},
   "outputs": [
    {
     "name": "stdout",
     "output_type": "stream",
     "text": [
      "Processing 500 bootstrap files\n",
      "---------\n",
      "Performance for esr - eta_ada - class_poor\n",
      "Acc: 0.148\n",
      "Adjusted Acc Measure: 0.154 +/- 0.000 (IQR: 0.154 - 0.154)\n",
      "AUC: 0.708\n",
      "Adjusted AUC: 0.677 +/- 0.001 (IQR: 0.675 - 0.678)\n",
      "Citl_0: -0.000\n",
      "Adjusted CITL_0: -0.198 +/- 0.012 (IQR: -0.210 - -0.186)\n",
      "Slope_0: 0.999\n",
      "Adjusted Cal Slope_0: 0.834 +/- 0.007 (IQR: 0.826 - 0.841)\n",
      "---------\n"
     ]
    }
   ],
   "source": [
    "print_adjusted_metrics('esr', 'eta_ada', outcome_col = 'class_poor')"
   ]
  },
  {
   "cell_type": "code",
   "execution_count": 6,
   "metadata": {},
   "outputs": [
    {
     "name": "stdout",
     "output_type": "stream",
     "text": [
      "Processing 500 bootstrap files\n",
      "---------\n",
      "Performance for crp - etanercept - class\n",
      "Acc: 0.542\n",
      "Adjusted Acc Measure: 0.511 +/- 0.001 (IQR: 0.510 - 0.513)\n",
      "AUC: 0.693\n",
      "Adjusted AUC: 0.654 +/- 0.001 (IQR: 0.653 - 0.655)\n",
      "Citl_0: -0.442\n",
      "Adjusted CITL_0: -0.420 +/- 0.002 (IQR: -0.423 - -0.418)\n",
      "Citl_1: -1.042\n",
      "Adjusted CITL_1: -1.102 +/- 0.009 (IQR: -1.110 - -1.093)\n",
      "Slope_0: 0.694\n",
      "Adjusted Cal Slope_0: 0.573 +/- 0.003 (IQR: 0.569 - 0.576)\n",
      "Slope_1: 0.676\n",
      "Adjusted Cal Slope_1: 0.531 +/- 0.009 (IQR: 0.522 - 0.541)\n",
      "---------\n"
     ]
    }
   ],
   "source": [
    "print_adjusted_metrics('crp', 'etanercept', outcome_col = 'class')"
   ]
  },
  {
   "cell_type": "code",
   "execution_count": 7,
   "metadata": {},
   "outputs": [
    {
     "name": "stdout",
     "output_type": "stream",
     "text": [
      "Processing 500 bootstrap files\n",
      "---------\n",
      "Performance for esr - etanercept - class\n",
      "Acc: 0.547\n",
      "Adjusted Acc Measure: 0.513 +/- 0.006 (IQR: 0.508 - 0.519)\n",
      "AUC: 0.704\n",
      "Adjusted AUC: 0.665 +/- 0.001 (IQR: 0.665 - 0.666)\n",
      "Citl_0: -0.464\n",
      "Adjusted CITL_0: -0.407 +/- 0.010 (IQR: -0.416 - -0.397)\n",
      "Citl_1: -1.113\n",
      "Adjusted CITL_1: -1.126 +/- 0.005 (IQR: -1.131 - -1.121)\n",
      "Slope_0: 0.740\n",
      "Adjusted Cal Slope_0: 0.609 +/- 0.005 (IQR: 0.604 - 0.614)\n",
      "Slope_1: 0.700\n",
      "Adjusted Cal Slope_1: 0.551 +/- 0.008 (IQR: 0.543 - 0.558)\n",
      "---------\n"
     ]
    }
   ],
   "source": [
    "print_adjusted_metrics('esr', 'etanercept', outcome_col = 'class')"
   ]
  },
  {
   "cell_type": "code",
   "execution_count": 8,
   "metadata": {},
   "outputs": [
    {
     "name": "stdout",
     "output_type": "stream",
     "text": [
      "Processing 500 bootstrap files\n",
      "---------\n",
      "Performance for crp - adalimumab - class\n",
      "Acc: 0.572\n",
      "Adjusted Acc Measure: 0.519 +/- 0.009 (IQR: 0.510 - 0.527)\n",
      "AUC: 0.714\n",
      "Adjusted AUC: 0.656 +/- 0.001 (IQR: 0.655 - 0.657)\n",
      "Citl_0: -0.443\n",
      "Adjusted CITL_0: -0.415 +/- 0.001 (IQR: -0.417 - -0.414)\n",
      "Citl_1: -1.160\n",
      "Adjusted CITL_1: -1.209 +/- 0.004 (IQR: -1.213 - -1.204)\n",
      "Slope_0: 0.434\n",
      "Adjusted Cal Slope_0: 0.284 +/- 0.003 (IQR: 0.281 - 0.287)\n",
      "Slope_1: 0.569\n",
      "Adjusted Cal Slope_1: 0.443 +/- 0.003 (IQR: 0.439 - 0.446)\n",
      "---------\n"
     ]
    }
   ],
   "source": [
    "print_adjusted_metrics('crp', 'adalimumab', outcome_col = 'class')"
   ]
  },
  {
   "cell_type": "code",
   "execution_count": 9,
   "metadata": {},
   "outputs": [
    {
     "name": "stdout",
     "output_type": "stream",
     "text": [
      "Processing 500 bootstrap files\n",
      "---------\n",
      "Performance for esr - adalimumab - class\n",
      "Acc: 0.585\n",
      "Adjusted Acc Measure: 0.524 +/- 0.011 (IQR: 0.513 - 0.535)\n",
      "AUC: 0.745\n",
      "Adjusted AUC: 0.684 +/- 0.002 (IQR: 0.682 - 0.686)\n",
      "Citl_0: -0.393\n",
      "Adjusted CITL_0: -0.296 +/- 0.003 (IQR: -0.299 - -0.292)\n",
      "Citl_1: -1.181\n",
      "Adjusted CITL_1: -1.160 +/- 0.018 (IQR: -1.178 - -1.142)\n",
      "Slope_0: 0.532\n",
      "Adjusted Cal Slope_0: 0.354 +/- 0.008 (IQR: 0.346 - 0.361)\n",
      "Slope_1: 0.687\n",
      "Adjusted Cal Slope_1: 0.531 +/- 0.007 (IQR: 0.524 - 0.537)\n",
      "---------\n"
     ]
    }
   ],
   "source": [
    "print_adjusted_metrics('esr', 'adalimumab', outcome_col = 'class')"
   ]
  },
  {
   "cell_type": "code",
   "execution_count": 12,
   "metadata": {},
   "outputs": [
    {
     "name": "stdout",
     "output_type": "stream",
     "text": [
      "Processing 500 bootstrap files\n",
      "---------\n",
      "Performance for esr - eta_ada - class\n",
      "Acc: 0.546\n",
      "Adjusted Acc Measure: 0.522 +/- 0.002 (IQR: 0.520 - 0.524)\n",
      "AUC: 0.694\n",
      "Adjusted AUC: 0.665 +/- 0.001 (IQR: 0.664 - 0.666)\n",
      "Citl_0: -0.444\n",
      "Adjusted CITL_0: -0.394 +/- 0.005 (IQR: -0.398 - -0.389)\n",
      "Citl_1: -1.088\n",
      "Adjusted CITL_1: -1.101 +/- 0.009 (IQR: -1.110 - -1.092)\n",
      "Slope_0: 0.699\n",
      "Adjusted Cal Slope_0: 0.593 +/- 0.004 (IQR: 0.589 - 0.598)\n",
      "Slope_1: 0.740\n",
      "Adjusted Cal Slope_1: 0.635 +/- 0.006 (IQR: 0.629 - 0.641)\n",
      "---------\n"
     ]
    }
   ],
   "source": [
    "print_adjusted_metrics('esr', 'eta_ada', outcome_col = 'class')"
   ]
  },
  {
   "cell_type": "code",
   "execution_count": null,
   "metadata": {},
   "outputs": [],
   "source": []
  }
 ],
 "metadata": {
  "kernelspec": {
   "display_name": "Python 3",
   "language": "python",
   "name": "python3"
  },
  "language_info": {
   "codemirror_mode": {
    "name": "ipython",
    "version": 3
   },
   "file_extension": ".py",
   "mimetype": "text/x-python",
   "name": "python",
   "nbconvert_exporter": "python",
   "pygments_lexer": "ipython3",
   "version": "3.8.5"
  }
 },
 "nbformat": 4,
 "nbformat_minor": 4
}
