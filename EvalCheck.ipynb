{
 "cells": [
  {
   "cell_type": "code",
   "execution_count": null,
   "metadata": {},
   "outputs": [],
   "source": [
    "import os\n",
    "\n",
    "def print_missing_bootstraps(das_type, treatment, outcome_col = 'class_bin'):\n",
    "    root_path = f'./data/results/{treatment}/{outcome_col}/bootstraps/'\n",
    "    \n",
    "    missing = []\n",
    "    \n",
    "    for n in range(1, 501):\n",
    "        file_name = f'{root_path}{das_type}_{treatment}_{outcome_col}_bootstrap_{n}_eval.data'\n",
    "        \n",
    "        if not os.path.exists(file_name):\n",
    "            missing.append(n)\n",
    "       \n",
    "    print('---------')\n",
    "    print(f'Missing for {das_type} - {treatment} - {outcome_col}: {missing}')\n",
    "    print('---------')"
   ]
  },
  {
   "cell_type": "code",
   "execution_count": 3,
   "metadata": {},
   "outputs": [
    {
     "name": "stdout",
     "output_type": "stream",
     "text": [
      "---------\n",
      "Missing for esr - etanercept - class_bin: []\n",
      "---------\n",
      "---------\n",
      "Missing for crp - etanercept - class_bin: []\n",
      "---------\n",
      "---------\n",
      "Missing for esr - adalimumab - class_bin: []\n",
      "---------\n",
      "---------\n",
      "Missing for crp - adalimumab - class_bin: []\n",
      "---------\n"
     ]
    }
   ],
   "source": [
    "print_missing_bootstraps('esr', 'etanercept')\n",
    "print_missing_bootstraps('crp', 'etanercept')\n",
    "print_missing_bootstraps('esr', 'adalimumab')\n",
    "print_missing_bootstraps('crp', 'adalimumab')"
   ]
  },
  {
   "cell_type": "code",
   "execution_count": 2,
   "metadata": {},
   "outputs": [
    {
     "name": "stdout",
     "output_type": "stream",
     "text": [
      "---------\n",
      "Missing for esr - etanercept - class: []\n",
      "---------\n",
      "---------\n",
      "Missing for crp - etanercept - class: []\n",
      "---------\n",
      "---------\n",
      "Missing for esr - adalimumab - class: []\n",
      "---------\n",
      "---------\n",
      "Missing for crp - adalimumab - class: []\n",
      "---------\n"
     ]
    }
   ],
   "source": [
    "print_missing_bootstraps('esr', 'etanercept', outcome_col = 'class')\n",
    "print_missing_bootstraps('crp', 'etanercept', outcome_col = 'class')\n",
    "print_missing_bootstraps('esr', 'adalimumab', outcome_col = 'class')\n",
    "print_missing_bootstraps('crp', 'adalimumab', outcome_col = 'class')"
   ]
  },
  {
   "cell_type": "code",
   "execution_count": null,
   "metadata": {},
   "outputs": [],
   "source": []
  }
 ],
 "metadata": {
  "kernelspec": {
   "display_name": "Python 3",
   "language": "python",
   "name": "python3"
  },
  "language_info": {
   "codemirror_mode": {
    "name": "ipython",
    "version": 3
   },
   "file_extension": ".py",
   "mimetype": "text/x-python",
   "name": "python",
   "nbconvert_exporter": "python",
   "pygments_lexer": "ipython3",
   "version": "3.8.5"
  }
 },
 "nbformat": 4,
 "nbformat_minor": 4
}
