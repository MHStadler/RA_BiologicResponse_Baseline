{
 "cells": [
  {
   "cell_type": "code",
   "execution_count": 9,
   "metadata": {},
   "outputs": [],
   "source": [
    "import numpy as np\n",
    "import pandas as pd\n",
    "\n",
    "def print_details(das_type, treatment = 'etanercept'):\n",
    "    df = pd.read_csv(f'./data/das28_BIOP_{das_type}_{treatment}_outcomes.csv')\n",
    "    \n",
    "    bins, counts = np.unique(df['eular_bin'], return_counts = True)\n",
    "    \n",
    "    cases = (np.count_nonzero(df['class_poor'] == 1) / df.shape[0]) * 100\n",
    "    print('N: ', df.shape[0])\n",
    "    print(bins, counts)\n",
    "    print(f'Cases: {cases:0.2f}%')\n",
    "    \n",
    "    for col in ['das_swol.0', 'das_tend.0', f'{das_type}.0', 'das_vas.0', 'HEIGHT', 'WEIGHT', 'AGEONSET', 'DISDUR', 'HAQ', 'HAD_A', 'HAD_D']:\n",
    "        non0_idx = np.where(~pd.isnull(df[col]))[0]\n",
    "        \n",
    "        missing = ((df.shape[0] - len(non0_idx)) / df.shape[0]) * 100\n",
    "        \n",
    "        mean = np.mean(df.iloc[non0_idx][col])\n",
    "        std = np.std(df.iloc[non0_idx][col])\n",
    "        \n",
    "        print(f'{col} - {mean:0.4f} - {std:0.2f} - {missing:0.2f}%')\n",
    "        \n",
    "    for bin_col in ['CONCURRENT_DMARD', 'SEX', 'SERO', 'FIRSTBIO']:\n",
    "        non0_idx = np.where(~pd.isnull(df[bin_col]))[0]\n",
    "        \n",
    "        missing = ((df.shape[0] - len(non0_idx)) / df.shape[0]) * 100\n",
    "        \n",
    "        nnz = (np.count_nonzero(df.iloc[non0_idx][bin_col] == 1) / df.shape[0] * 100)\n",
    "        \n",
    "        print(f'{bin_col} - {nnz:0.2f}% - {missing:0.2f}%')"
   ]
  },
  {
   "cell_type": "code",
   "execution_count": 10,
   "metadata": {},
   "outputs": [
    {
     "name": "stdout",
     "output_type": "stream",
     "text": [
      "N:  778\n",
      "['Good' 'Moderate' 'None'] [310 320 148]\n",
      "Cases: 19.02%\n",
      "das_swol.0 - 8.8445 - 5.20 - 0.00%\n",
      "das_tend.0 - 14.6877 - 6.74 - 0.00%\n",
      "crp.0 - 19.0739 - 25.07 - 0.00%\n",
      "das_vas.0 - 74.7429 - 17.79 - 0.00%\n",
      "HEIGHT - 164.3806 - 12.00 - 16.58%\n",
      "WEIGHT - 78.1844 - 20.01 - 5.91%\n",
      "AGEONSET - 47.3330 - 13.86 - 1.29%\n",
      "DISDUR - 9.9401 - 10.35 - 1.29%\n",
      "HAQ - 1.6085 - 0.65 - 12.85%\n",
      "HAD_A - 8.0868 - 4.54 - 15.55%\n",
      "HAD_D - 7.3841 - 4.02 - 15.68%\n",
      "CONCURRENT_DMARD - 81.49% - 1.54%\n",
      "SEX - 78.66% - 0.00%\n",
      "SERO - 77.89% - 7.20%\n",
      "FIRSTBIO - 90.62% - 0.90%\n"
     ]
    }
   ],
   "source": [
    "print_details('crp')"
   ]
  },
  {
   "cell_type": "code",
   "execution_count": 12,
   "metadata": {},
   "outputs": [
    {
     "name": "stdout",
     "output_type": "stream",
     "text": [
      "N:  693\n",
      "['Good' 'Moderate' 'None'] [228 322 143]\n",
      "Cases: 20.63%\n",
      "das_swol.0 - 8.6479 - 5.15 - 0.00%\n",
      "das_tend.0 - 14.5137 - 6.81 - 0.00%\n",
      "esr.0 - 30.2554 - 24.46 - 0.00%\n",
      "das_vas.0 - 74.7633 - 17.54 - 0.00%\n",
      "HEIGHT - 164.4378 - 12.27 - 15.30%\n",
      "WEIGHT - 78.0837 - 18.91 - 5.19%\n",
      "AGEONSET - 47.5377 - 13.77 - 1.01%\n",
      "DISDUR - 9.9188 - 10.42 - 1.01%\n",
      "HAQ - 1.6305 - 0.66 - 15.44%\n",
      "HAD_A - 7.9947 - 4.49 - 18.04%\n",
      "HAD_D - 7.3298 - 4.11 - 18.18%\n",
      "CONCURRENT_DMARD - 81.53% - 1.88%\n",
      "SEX - 78.21% - 0.00%\n",
      "SERO - 78.07% - 5.63%\n",
      "FIRSTBIO - 90.76% - 1.15%\n"
     ]
    }
   ],
   "source": [
    "print_details('esr')"
   ]
  },
  {
   "cell_type": "code",
   "execution_count": null,
   "metadata": {},
   "outputs": [],
   "source": []
  }
 ],
 "metadata": {
  "kernelspec": {
   "display_name": "Python 3",
   "language": "python",
   "name": "python3"
  },
  "language_info": {
   "codemirror_mode": {
    "name": "ipython",
    "version": 3
   },
   "file_extension": ".py",
   "mimetype": "text/x-python",
   "name": "python",
   "nbconvert_exporter": "python",
   "pygments_lexer": "ipython3",
   "version": "3.8.5"
  }
 },
 "nbformat": 4,
 "nbformat_minor": 4
}
