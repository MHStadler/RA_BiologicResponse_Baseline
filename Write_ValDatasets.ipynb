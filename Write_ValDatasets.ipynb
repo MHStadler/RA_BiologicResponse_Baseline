{
 "cells": [
  {
   "cell_type": "code",
   "execution_count": 1,
   "metadata": {},
   "outputs": [],
   "source": [
    "import numpy as np\n",
    "import pandas as pd\n",
    "\n",
    "crp_full_data = pd.read_csv(f'./data/das28_BIOP_crp_cert_gol_inflix_outcomes.csv')\n",
    "esr_full_data = pd.read_csv(f'./data/das28_BIOP_esr_cert_gol_inflix_outcomes.csv')\n",
    "\n",
    "shared_samples = np.intersect1d(crp_full_data['sample_id'].to_numpy(), esr_full_data['sample_id'].to_numpy())\n",
    "\n",
    "crp_full_data_idx = np.where([sample_id in shared_samples for sample_id in crp_full_data['sample_id'].to_numpy()])[0]\n",
    "esr_full_data_idx = np.where([sample_id in shared_samples for sample_id in esr_full_data['sample_id'].to_numpy()])[0]\n",
    "\n",
    "crp_filtered_data = crp_full_data.iloc[crp_full_data_idx].reset_index(drop = True)\n",
    "esr_filtered_data = esr_full_data.iloc[esr_full_data_idx].reset_index(drop = True)\n",
    "\n",
    "crp_filtered_data.to_csv('./data/das28_BIOP_crp_val_outcomes.csv')\n",
    "esr_filtered_data.to_csv('./data/das28_BIOP_esr_val_outcomes.csv')"
   ]
  },
  {
   "cell_type": "code",
   "execution_count": 4,
   "metadata": {},
   "outputs": [],
   "source": [
    "nTNFi_crp_full_data = pd.read_csv(f'./data/das28_BIOP_crp_nTNFi_outcomes.csv')\n",
    "nTNFi_esr_full_data = pd.read_csv(f'./data/das28_BIOP_esr_nTNFi_outcomes.csv')\n",
    "\n",
    "shared_samples = np.intersect1d(nTNFi_crp_full_data['sample_id'].to_numpy(), nTNFi_esr_full_data['sample_id'].to_numpy())\n",
    "\n",
    "crp_full_data_idx = np.where([sample_id in shared_samples for sample_id in nTNFi_crp_full_data['sample_id'].to_numpy()])[0]\n",
    "esr_full_data_idx = np.where([sample_id in shared_samples for sample_id in nTNFi_esr_full_data['sample_id'].to_numpy()])[0]\n",
    "\n",
    "nTNFi_crp_filtered_data = nTNFi_crp_full_data.iloc[crp_full_data_idx].reset_index(drop = True)\n",
    "nTNFi_esr_filtered_data = nTNFi_esr_full_data.iloc[esr_full_data_idx].reset_index(drop = True)\n",
    "\n",
    "nTNFi_crp_filtered_data.to_csv('./data/das28_BIOP_crp_val_nTNFi_outcomes.csv')\n",
    "nTNFi_esr_filtered_data.to_csv('./data/das28_BIOP_esr_val_nTNFi_outcomes.csv')"
   ]
  },
  {
   "cell_type": "code",
   "execution_count": null,
   "metadata": {},
   "outputs": [],
   "source": []
  }
 ],
 "metadata": {
  "kernelspec": {
   "display_name": "Python 3",
   "language": "python",
   "name": "python3"
  },
  "language_info": {
   "codemirror_mode": {
    "name": "ipython",
    "version": 3
   },
   "file_extension": ".py",
   "mimetype": "text/x-python",
   "name": "python",
   "nbconvert_exporter": "python",
   "pygments_lexer": "ipython3",
   "version": "3.8.5"
  }
 },
 "nbformat": 4,
 "nbformat_minor": 4
}
