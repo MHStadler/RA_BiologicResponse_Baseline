{
 "cells": [
  {
   "cell_type": "code",
   "execution_count": 5,
   "metadata": {},
   "outputs": [
    {
     "name": "stdout",
     "output_type": "stream",
     "text": [
      "(8728, 6)\n"
     ]
    }
   ],
   "source": [
    "import numpy as np\n",
    "import pandas as pd\n",
    "\n",
    "had_data = pd.read_stata(\"../data/braggss/biop_tbl_treatment_beliefs.dta\")\n",
    "\n",
    "print(had_data.shape)"
   ]
  },
  {
   "cell_type": "code",
   "execution_count": 9,
   "metadata": {},
   "outputs": [],
   "source": [
    "had_idx = np.where(had_data['fupno'] == 0)[0]\n",
    "fup_had_data = had_data.iloc[had_idx].reset_index(drop = True)"
   ]
  },
  {
   "cell_type": "code",
   "execution_count": 6,
   "metadata": {},
   "outputs": [
    {
     "data": {
      "text/html": [
       "<div>\n",
       "<style scoped>\n",
       "    .dataframe tbody tr th:only-of-type {\n",
       "        vertical-align: middle;\n",
       "    }\n",
       "\n",
       "    .dataframe tbody tr th {\n",
       "        vertical-align: top;\n",
       "    }\n",
       "\n",
       "    .dataframe thead th {\n",
       "        text-align: right;\n",
       "    }\n",
       "</style>\n",
       "<table border=\"1\" class=\"dataframe\">\n",
       "  <thead>\n",
       "    <tr style=\"text-align: right;\">\n",
       "      <th></th>\n",
       "      <th>sample_id</th>\n",
       "      <th>fupno</th>\n",
       "      <th>had_anxiety</th>\n",
       "      <th>grhad_anx</th>\n",
       "      <th>had_depress</th>\n",
       "      <th>grhad_depr</th>\n",
       "    </tr>\n",
       "  </thead>\n",
       "  <tbody>\n",
       "    <tr>\n",
       "      <th>0</th>\n",
       "      <td>BIOP001001</td>\n",
       "      <td>0</td>\n",
       "      <td>16.0</td>\n",
       "      <td>Probable&gt;=11</td>\n",
       "      <td>NaN</td>\n",
       "      <td>NaN</td>\n",
       "    </tr>\n",
       "    <tr>\n",
       "      <th>1</th>\n",
       "      <td>BIOP001001</td>\n",
       "      <td>1</td>\n",
       "      <td>17.0</td>\n",
       "      <td>Probable&gt;=11</td>\n",
       "      <td>11.0</td>\n",
       "      <td>Probable&gt;=11</td>\n",
       "    </tr>\n",
       "    <tr>\n",
       "      <th>2</th>\n",
       "      <td>BIOP001001</td>\n",
       "      <td>2</td>\n",
       "      <td>17.0</td>\n",
       "      <td>Probable&gt;=11</td>\n",
       "      <td>17.0</td>\n",
       "      <td>Probable&gt;=11</td>\n",
       "    </tr>\n",
       "    <tr>\n",
       "      <th>3</th>\n",
       "      <td>BIOP001002</td>\n",
       "      <td>0</td>\n",
       "      <td>8.0</td>\n",
       "      <td>Borderline 8-10</td>\n",
       "      <td>3.0</td>\n",
       "      <td>Normal &lt;=7</td>\n",
       "    </tr>\n",
       "    <tr>\n",
       "      <th>4</th>\n",
       "      <td>BIOP001002</td>\n",
       "      <td>1</td>\n",
       "      <td>8.0</td>\n",
       "      <td>Borderline 8-10</td>\n",
       "      <td>9.0</td>\n",
       "      <td>Borderline 8-10</td>\n",
       "    </tr>\n",
       "    <tr>\n",
       "      <th>...</th>\n",
       "      <td>...</td>\n",
       "      <td>...</td>\n",
       "      <td>...</td>\n",
       "      <td>...</td>\n",
       "      <td>...</td>\n",
       "      <td>...</td>\n",
       "    </tr>\n",
       "    <tr>\n",
       "      <th>8723</th>\n",
       "      <td>BIOP888009</td>\n",
       "      <td>1</td>\n",
       "      <td>NaN</td>\n",
       "      <td>NaN</td>\n",
       "      <td>NaN</td>\n",
       "      <td>NaN</td>\n",
       "    </tr>\n",
       "    <tr>\n",
       "      <th>8724</th>\n",
       "      <td>BIOP888010</td>\n",
       "      <td>0</td>\n",
       "      <td>NaN</td>\n",
       "      <td>NaN</td>\n",
       "      <td>NaN</td>\n",
       "      <td>NaN</td>\n",
       "    </tr>\n",
       "    <tr>\n",
       "      <th>8725</th>\n",
       "      <td>BIOP888010</td>\n",
       "      <td>1</td>\n",
       "      <td>NaN</td>\n",
       "      <td>NaN</td>\n",
       "      <td>NaN</td>\n",
       "      <td>NaN</td>\n",
       "    </tr>\n",
       "    <tr>\n",
       "      <th>8726</th>\n",
       "      <td>BIOP888010</td>\n",
       "      <td>3</td>\n",
       "      <td>NaN</td>\n",
       "      <td>NaN</td>\n",
       "      <td>NaN</td>\n",
       "      <td>NaN</td>\n",
       "    </tr>\n",
       "    <tr>\n",
       "      <th>8727</th>\n",
       "      <td>Biop039014</td>\n",
       "      <td>0</td>\n",
       "      <td>6.0</td>\n",
       "      <td>Normal &lt;=7</td>\n",
       "      <td>2.0</td>\n",
       "      <td>Normal &lt;=7</td>\n",
       "    </tr>\n",
       "  </tbody>\n",
       "</table>\n",
       "<p>8728 rows × 6 columns</p>\n",
       "</div>"
      ],
      "text/plain": [
       "       sample_id  fupno  had_anxiety        grhad_anx  had_depress  \\\n",
       "0     BIOP001001      0         16.0     Probable>=11          NaN   \n",
       "1     BIOP001001      1         17.0     Probable>=11         11.0   \n",
       "2     BIOP001001      2         17.0     Probable>=11         17.0   \n",
       "3     BIOP001002      0          8.0  Borderline 8-10          3.0   \n",
       "4     BIOP001002      1          8.0  Borderline 8-10          9.0   \n",
       "...          ...    ...          ...              ...          ...   \n",
       "8723  BIOP888009      1          NaN              NaN          NaN   \n",
       "8724  BIOP888010      0          NaN              NaN          NaN   \n",
       "8725  BIOP888010      1          NaN              NaN          NaN   \n",
       "8726  BIOP888010      3          NaN              NaN          NaN   \n",
       "8727  Biop039014      0          6.0       Normal <=7          2.0   \n",
       "\n",
       "           grhad_depr  \n",
       "0                 NaN  \n",
       "1        Probable>=11  \n",
       "2        Probable>=11  \n",
       "3          Normal <=7  \n",
       "4     Borderline 8-10  \n",
       "...               ...  \n",
       "8723              NaN  \n",
       "8724              NaN  \n",
       "8725              NaN  \n",
       "8726              NaN  \n",
       "8727       Normal <=7  \n",
       "\n",
       "[8728 rows x 6 columns]"
      ]
     },
     "execution_count": 6,
     "metadata": {},
     "output_type": "execute_result"
    }
   ],
   "source": [
    "had_data"
   ]
  },
  {
   "cell_type": "code",
   "execution_count": 11,
   "metadata": {},
   "outputs": [
    {
     "data": {
      "text/plain": [
       "3083"
      ]
     },
     "execution_count": 11,
     "metadata": {},
     "output_type": "execute_result"
    }
   ],
   "source": [
    "np.count_nonzero(~pd.isnull(fup_had_data['had_anxiety']))"
   ]
  },
  {
   "cell_type": "code",
   "execution_count": 19,
   "metadata": {},
   "outputs": [
    {
     "data": {
      "text/plain": [
       "(array(['Borderline 8-10', 'Normal <=7', 'Probable>=11'], dtype=object),\n",
       " array([ 704, 1394,  985]))"
      ]
     },
     "execution_count": 19,
     "metadata": {},
     "output_type": "execute_result"
    }
   ],
   "source": [
    "np.unique(fup_had_data.iloc[np.where(~pd.isnull(fup_had_data['grhad_anx']))[0]]['grhad_anx'], return_counts = True)"
   ]
  },
  {
   "cell_type": "code",
   "execution_count": 20,
   "metadata": {},
   "outputs": [
    {
     "data": {
      "text/plain": [
       "(array(['Borderline 8-10', 'Normal <=7', 'Probable>=11'], dtype=object),\n",
       " array([ 789, 1587,  726]))"
      ]
     },
     "execution_count": 20,
     "metadata": {},
     "output_type": "execute_result"
    }
   ],
   "source": [
    "np.unique(fup_had_data.iloc[np.where(~pd.isnull(fup_had_data['grhad_depr']))[0]]['grhad_depr'], return_counts = True)"
   ]
  },
  {
   "cell_type": "code",
   "execution_count": null,
   "metadata": {},
   "outputs": [],
   "source": []
  }
 ],
 "metadata": {
  "kernelspec": {
   "display_name": "Python 3",
   "language": "python",
   "name": "python3"
  },
  "language_info": {
   "codemirror_mode": {
    "name": "ipython",
    "version": 3
   },
   "file_extension": ".py",
   "mimetype": "text/x-python",
   "name": "python",
   "nbconvert_exporter": "python",
   "pygments_lexer": "ipython3",
   "version": "3.8.5"
  }
 },
 "nbformat": 4,
 "nbformat_minor": 4
}
