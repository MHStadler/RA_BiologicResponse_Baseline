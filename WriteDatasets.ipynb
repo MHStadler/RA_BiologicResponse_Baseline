{
 "cells": [
  {
   "cell_type": "code",
   "execution_count": 1,
   "metadata": {},
   "outputs": [],
   "source": [
    "import numpy as np\n",
    "import pandas as pd\n",
    "\n",
    "biop_covariates = pd.read_csv('./data/biop_clinical.csv', delimiter = ',')\n",
    "biol_covariates = pd.read_csv('./data/biol_clinical.csv', delimiter = ',')\n",
    "\n",
    "acpa_dataframe = pd.read_csv('./data/patient_acpa_data.csv', delimiter = ',')\n",
    "\n",
    "full_dataframe = biop_covariates.append(biol_covariates, ignore_index = True)"
   ]
  },
  {
   "cell_type": "code",
   "execution_count": 2,
   "metadata": {},
   "outputs": [],
   "source": [
    "import functools\n",
    "\n",
    "das_bins = {\n",
    "    0: {0: 'Good', 1: 'Moderate', 2: 'Moderate'}, \n",
    "    1: {0: 'Moderate', 1: 'Moderate', 2: 'None'},\n",
    "    2: {0: 'Moderate', 1: 'None', 2: 'None'}\n",
    "}\n",
    "\n",
    "def get_das_bin(das_fu, delta_das):\n",
    "    f_up_bin = 1\n",
    "    delta_bin = 1\n",
    "    \n",
    "    if das_fu <= 3.2:\n",
    "        f_up_bin = 0\n",
    "    elif das_fu > 5.2:\n",
    "        f_up_bin = 2\n",
    "        \n",
    "    if delta_das > 1.2:\n",
    "        delta_bin = 0\n",
    "    elif delta_das <= 0.6:\n",
    "        delta_bin = 2\n",
    "        \n",
    "    return das_bins[f_up_bin][delta_bin]\n",
    "\n",
    "def write_eular_phenotype_file(df, das_type, non0_columns):    \n",
    "    outcomes_das = []\n",
    "    \n",
    "    das28_idx = np.where(np.logical_and(~pd.isnull(df[f'das28{das_type}.0']), ~pd.isnull(df[f'das28{das_type}.2'])))[0]\n",
    "    das28_outcomes = df.iloc[das28_idx].reset_index(drop = True)\n",
    "    \n",
    "    for index, row in das28_outcomes.iterrows():\n",
    "        outcome_das = {\n",
    "            'IID': row['sample_id']\n",
    "        }\n",
    "        \n",
    "        das = row[f'das28{das_type}.0']\n",
    "        das_fu = row[f'das28{das_type}.2']\n",
    "        delta_das = das - das_fu\n",
    "\n",
    "        outcome_das['delta_das'] = delta_das\n",
    "        outcome_das['eular_bin'] = get_das_bin(das_fu, delta_das)\n",
    "\n",
    "        outcomes_das.append(outcome_das)\n",
    "        \n",
    "    das28_df = pd.DataFrame(outcomes_das, index = np.arange(len(outcomes_das)))\n",
    "    das28_df = df.merge(das28_df, how = 'right', left_on = 'sample_id', right_on = 'IID')\n",
    "    \n",
    "    das28_df = das28_df.astype({'eular_bin': 'category'})\n",
    "    das28_df['class'] = das28_df['eular_bin'].cat.codes\n",
    "\n",
    "    bio_idx = np.where([bio in ['adalimumab', 'etanercept', 'infliximab'] for bio in das28_df['BIO']])\n",
    "    das28_df = das28_df.iloc[bio_idx].reset_index(drop = True)\n",
    "    \n",
    "    das28_df['das_type'] = das_type\n",
    "    \n",
    "    idx = [pd.isnull(das28_df[x]) for x in non0_columns]\n",
    "    non0_idx = np.where(np.logical_not(functools.reduce(np.logical_or, idx)))[0]\n",
    "    \n",
    "    das28_df = das28_df.iloc[non0_idx].reset_index(drop = True)\n",
    "    das28_df.merge(acpa_dataframe, how = 'left')\n",
    "    \n",
    "    print(das28_df.shape, f'samples before cleaing {das_type} df')\n",
    "    \n",
    "    # Drop samples that are missing all covariates\n",
    "    idx = [pd.isnull(das28_df[x]) for x in ['FIRSTBIO', 'WEIGHT', 'HEIGHT', 'DISDUR', 'SMOKE', 'BIO', 'AGEONSET', 'HAQ', 'SEX', 'SERO', 'CONCURRENT_DMARD']]\n",
    "    \n",
    "    drop_idx = np.where(np.logical_not(functools.reduce(np.logical_and, idx)))[0]\n",
    "    das28_df = das28_df.iloc[drop_idx].reset_index(drop = True)\n",
    "    \n",
    "    print(das28_df.shape, f'left after cleaing {das_type} df')\n",
    "    \n",
    "    for col in ['FIRSTBIO', 'WEIGHT', 'HEIGHT', 'DISDUR', 'SMOKE', 'BIO', 'AGEONSET', 'HAQ', 'SEX', 'SERO', 'CONCURRENT_DMARD']:\n",
    "        n_mis = (np.count_nonzero(pd.isnull(das28_df[col])) / das28_df.shape[0]) * 100\n",
    "        \n",
    "        print(f'{col} is missing for {n_mis:2.4f}% of samples')\n",
    "        \n",
    "    das28_df.to_csv(f'./data/das28_BIOP_{das_type}_outcomes.csv', index = False)"
   ]
  },
  {
   "cell_type": "code",
   "execution_count": 3,
   "metadata": {},
   "outputs": [
    {
     "name": "stdout",
     "output_type": "stream",
     "text": [
      "(623, 33) samples before cleaing crp df\n",
      "(623, 33) left after cleaing crp df\n",
      "FIRSTBIO is missing for 0.3210% of samples\n",
      "WEIGHT is missing for 7.5441% of samples\n",
      "HEIGHT is missing for 16.8539% of samples\n",
      "DISDUR is missing for 1.7657% of samples\n",
      "SMOKE is missing for 0.0000% of samples\n",
      "BIO is missing for 0.0000% of samples\n",
      "AGEONSET is missing for 1.7657% of samples\n",
      "HAQ is missing for 14.1252% of samples\n",
      "SEX is missing for 0.6421% of samples\n",
      "SERO is missing for 2.8892% of samples\n",
      "CONCURRENT_DMARD is missing for 2.2472% of samples\n"
     ]
    }
   ],
   "source": [
    "write_eular_phenotype_file(biop_covariates, 'crp', ['das_tend.0', 'das_vas.0', 'das_swol.0', 'crp.0', 'BIO', 'SMOKE'])"
   ]
  },
  {
   "cell_type": "code",
   "execution_count": 4,
   "metadata": {},
   "outputs": [
    {
     "name": "stdout",
     "output_type": "stream",
     "text": [
      "(569, 33) samples before cleaing esr df\n",
      "(569, 33) left after cleaing esr df\n",
      "FIRSTBIO is missing for 0.5272% of samples\n",
      "WEIGHT is missing for 7.2056% of samples\n",
      "HEIGHT is missing for 15.4657% of samples\n",
      "DISDUR is missing for 1.9332% of samples\n",
      "SMOKE is missing for 0.0000% of samples\n",
      "BIO is missing for 0.0000% of samples\n",
      "AGEONSET is missing for 1.9332% of samples\n",
      "HAQ is missing for 15.2900% of samples\n",
      "SEX is missing for 0.7030% of samples\n",
      "SERO is missing for 2.8120% of samples\n",
      "CONCURRENT_DMARD is missing for 2.1090% of samples\n"
     ]
    }
   ],
   "source": [
    "write_eular_phenotype_file(biop_covariates, 'esr', ['das_tend.0', 'das_vas.0', 'das_swol.0', 'esr.0', 'BIO', 'SMOKE'])"
   ]
  },
  {
   "cell_type": "code",
   "execution_count": null,
   "metadata": {},
   "outputs": [],
   "source": []
  }
 ],
 "metadata": {
  "kernelspec": {
   "display_name": "Python 3",
   "language": "python",
   "name": "python3"
  },
  "language_info": {
   "codemirror_mode": {
    "name": "ipython",
    "version": 3
   },
   "file_extension": ".py",
   "mimetype": "text/x-python",
   "name": "python",
   "nbconvert_exporter": "python",
   "pygments_lexer": "ipython3",
   "version": "3.8.5"
  }
 },
 "nbformat": 4,
 "nbformat_minor": 4
}
