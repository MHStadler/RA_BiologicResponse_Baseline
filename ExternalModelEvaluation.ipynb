{
 "cells": [
  {
   "cell_type": "code",
   "execution_count": 5,
   "metadata": {},
   "outputs": [],
   "source": [
    "import json\n",
    "import numpy as np\n",
    "import os\n",
    "import pandas as pd\n",
    "import pickle\n",
    "\n",
    "from autoimpute_copy.imputations import listwise_delete\n",
    "from models import PooledLinearModelFactory\n",
    "from utils import init_results_struct\n",
    "\n",
    "def _print_cont_metrics(result_struct):\n",
    "    mae = result_struct['mae']\n",
    "    mae_iqr = result_struct['mae_values_iqr']\n",
    "    mse = result_struct['mse']\n",
    "    mse_iqr = result_struct['mse_values_iqr']\n",
    "    r2 = result_struct['r2']\n",
    "    r2_iqr = result_struct['r2_iqr']\n",
    "        \n",
    "    print(f'MAE: {mae:0.3f} +/- {mae_iqr:0.3f}')\n",
    "    print(f'MSE: {mse:0.3f} +/- {mse_iqr:0.3f}')\n",
    "    print(f'R2: {r2:0.3f} +/- {r2_iqr:0.3f}')\n",
    "\n",
    "def run_external_val(das_type, treatment, target_treatment, outcome_col = 'class_poor', _type = 'log'):\n",
    "    test_data_df = pd.read_csv(f'./data/das28_BIOP_{das_type}_{target_treatment}_outcomes.csv')\n",
    "    \n",
    "    imputed_cols = [outcome_col, 'BIO', 'das_tend.0', 'das_vas.0', 'das_swol.0', f'{das_type}.0', 'FIRSTBIO', 'WEIGHT', 'HEIGHT', 'DISDUR', 'AGEONSET', 'HAQ', 'SEX', 'SERO', 'CONCURRENT_DMARD', 'HAD_D', 'HAD_A']\n",
    "    test_data_df = listwise_delete(test_data_df[imputed_cols]).reset_index(drop = True)\n",
    "    n = test_data_df.shape[0]\n",
    "    \n",
    "    X = test_data_df[imputed_cols[2:]].to_numpy()\n",
    "    y = test_data_df[outcome_col].to_numpy()\n",
    "        \n",
    "    pooled_lin_model = PooledLinearModelFactory.init_from_file(f'./data/results/{treatment}/{outcome_col}/{das_type}_{treatment}_{outcome_col}_pooled_model')\n",
    "    \n",
    "    M = 500\n",
    "    \n",
    "    results = init_results_struct(_type, M)\n",
    "    \n",
    "    N = X.shape[0]\n",
    "    pop = np.arange(N)\n",
    "    \n",
    "    for n_boot in range(M):\n",
    "        boot_idx = np.random.choice(pop, N)\n",
    "    \n",
    "        X_boot = X[boot_idx, :]\n",
    "        y_boot = y[boot_idx]\n",
    "        \n",
    "        results.add_result(n_boot, pooled_lin_model, X_boot, y_boot)\n",
    "    \n",
    "    result_struct = results.to_results_struct()\n",
    "    \n",
    "    print('---------')\n",
    "    print(f'Performance for {das_type} - {treatment} - {outcome_col} - {target_treatment}')\n",
    "    \n",
    "    if _type == 'cont':\n",
    "        _print_cont_metrics(result_struct)\n",
    "    print('---------')\n",
    "    \n",
    "    os.makedirs(f'./data/results/{treatment}/{outcome_col}/external_val', exist_ok = True)\n",
    "    \n",
    "    pickle.dump(result_struct, open(f\"./data/results/{treatment}/{outcome_col}/external_val/external_val_{das_type}_{outcome_col}_{treatment}_{target_treatment}.data\", \"wb\"))"
   ]
  },
  {
   "cell_type": "markdown",
   "metadata": {},
   "source": [
    "CRP Models:"
   ]
  },
  {
   "cell_type": "code",
   "execution_count": 2,
   "metadata": {},
   "outputs": [
    {
     "name": "stdout",
     "output_type": "stream",
     "text": [
      "Counter Factual Validation:\n",
      "---------\n",
      "External Val Performance for crp - etanercept - class_poor - adalimumab\n",
      "Treatments (273): (array(['adalimumab'], dtype=object), array([273]))\n",
      "Outcomes (273): (array([0, 1]), array([224,  49]))\n",
      "AUC: 0.622 +/- 0.042\n",
      "---------\n",
      "---------\n",
      "External Val Performance for crp - adalimumab - class_poor - etanercept\n",
      "Treatments (473): (array(['etanercept'], dtype=object), array([473]))\n",
      "Outcomes (473): (array([0, 1]), array([382,  91]))\n",
      "AUC: 0.580 +/- 0.032\n",
      "---------\n"
     ]
    }
   ],
   "source": [
    "print('Counter Factual Validation:')\n",
    "run_external_val('crp', 'etanercept', 'adalimumab')\n",
    "run_external_val('crp', 'adalimumab', 'etanercept')"
   ]
  },
  {
   "cell_type": "code",
   "execution_count": 3,
   "metadata": {},
   "outputs": [
    {
     "name": "stdout",
     "output_type": "stream",
     "text": [
      "External TNFi Validation:\n",
      "---------\n",
      "External Val Performance for crp - etanercept - class_poor - cert_gol_inflix\n",
      "Treatments (195): (array(['Certolizumab', 'golimumab', 'infliximab'], dtype=object), array([124,  55,  16]))\n",
      "Outcomes (195): (array([0, 1]), array([149,  46]))\n",
      "AUC: 0.638 +/- 0.049\n",
      "---------\n",
      "---------\n",
      "External Val Performance for crp - adalimumab - class_poor - cert_gol_inflix\n",
      "Treatments (195): (array(['Certolizumab', 'golimumab', 'infliximab'], dtype=object), array([124,  55,  16]))\n",
      "Outcomes (195): (array([0, 1]), array([149,  46]))\n",
      "AUC: 0.607 +/- 0.046\n",
      "---------\n",
      "---------\n",
      "External Val Performance for crp - eta_ada - class_poor - cert_gol_inflix\n",
      "Treatments (195): (array(['Certolizumab', 'golimumab', 'infliximab'], dtype=object), array([124,  55,  16]))\n",
      "Outcomes (195): (array([0, 1]), array([149,  46]))\n",
      "AUC: 0.654 +/- 0.044\n",
      "---------\n"
     ]
    }
   ],
   "source": [
    "print('External TNFi Validation:')\n",
    "\n",
    "run_external_val('crp', 'etanercept', 'cert_gol_inflix')\n",
    "run_external_val('crp', 'adalimumab', 'cert_gol_inflix')\n",
    "run_external_val('crp', 'eta_ada', 'cert_gol_inflix')"
   ]
  },
  {
   "cell_type": "code",
   "execution_count": 4,
   "metadata": {},
   "outputs": [
    {
     "name": "stdout",
     "output_type": "stream",
     "text": [
      "External Non TNFi Validation:\n",
      "---------\n",
      "External Val Performance for crp - etanercept - class_poor - nTNFi\n",
      "Treatments (414): (array(['abatacept', 'rituximab', 'tocilizumab'], dtype=object), array([ 48, 224, 142]))\n",
      "Outcomes (414): (array([0, 1]), array([303, 111]))\n",
      "AUC: 0.620 +/- 0.031\n",
      "---------\n",
      "---------\n",
      "External Val Performance for crp - adalimumab - class_poor - nTNFi\n",
      "Treatments (414): (array(['abatacept', 'rituximab', 'tocilizumab'], dtype=object), array([ 48, 224, 142]))\n",
      "Outcomes (414): (array([0, 1]), array([303, 111]))\n",
      "AUC: 0.535 +/- 0.031\n",
      "---------\n",
      "---------\n",
      "External Val Performance for crp - eta_ada - class_poor - nTNFi\n",
      "Treatments (414): (array(['abatacept', 'rituximab', 'tocilizumab'], dtype=object), array([ 48, 224, 142]))\n",
      "Outcomes (414): (array([0, 1]), array([303, 111]))\n",
      "AUC: 0.599 +/- 0.031\n",
      "---------\n",
      "---------\n",
      "External Val Performance for crp - TNFi - class_poor - nTNFi\n",
      "Treatments (414): (array(['abatacept', 'rituximab', 'tocilizumab'], dtype=object), array([ 48, 224, 142]))\n",
      "Outcomes (414): (array([0, 1]), array([303, 111]))\n",
      "AUC: 0.602 +/- 0.032\n",
      "---------\n"
     ]
    }
   ],
   "source": [
    "print('External Non TNFi Validation:')\n",
    "\n",
    "run_external_val('crp', 'etanercept', 'nTNFi')\n",
    "run_external_val('crp', 'adalimumab', 'nTNFi')\n",
    "run_external_val('crp', 'eta_ada', 'nTNFi')\n",
    "run_external_val('crp', 'TNFi', 'nTNFi')"
   ]
  },
  {
   "cell_type": "markdown",
   "metadata": {},
   "source": [
    "ESR Models:"
   ]
  },
  {
   "cell_type": "code",
   "execution_count": 5,
   "metadata": {},
   "outputs": [
    {
     "name": "stdout",
     "output_type": "stream",
     "text": [
      "Counter Factual Validation:\n",
      "---------\n",
      "External Val Performance for esr - etanercept - class_poor - adalimumab\n",
      "Treatments (226): (array(['adalimumab'], dtype=object), array([226]))\n",
      "Outcomes (226): (array([0, 1]), array([183,  43]))\n",
      "AUC: 0.742 +/- 0.043\n",
      "---------\n",
      "---------\n",
      "External Val Performance for esr - adalimumab - class_poor - etanercept\n",
      "Treatments (421): (array(['etanercept'], dtype=object), array([421]))\n",
      "Outcomes (421): (array([0, 1]), array([330,  91]))\n",
      "AUC: 0.619 +/- 0.036\n",
      "---------\n"
     ]
    }
   ],
   "source": [
    "print('Counter Factual Validation:')\n",
    "\n",
    "run_external_val('esr', 'etanercept', 'adalimumab')\n",
    "run_external_val('esr', 'adalimumab', 'etanercept')"
   ]
  },
  {
   "cell_type": "code",
   "execution_count": 6,
   "metadata": {},
   "outputs": [
    {
     "name": "stdout",
     "output_type": "stream",
     "text": [
      "External TNFi Validation:\n",
      "---------\n",
      "External Val Performance for esr - etanercept - class_poor - cert_gol_inflix\n",
      "Treatments (140): (array(['Certolizumab', 'golimumab', 'infliximab'], dtype=object), array([79, 48, 13]))\n",
      "Outcomes (140): (array([0, 1]), array([100,  40]))\n",
      "AUC: 0.665 +/- 0.050\n",
      "---------\n",
      "---------\n",
      "External Val Performance for esr - adalimumab - class_poor - cert_gol_inflix\n",
      "Treatments (140): (array(['Certolizumab', 'golimumab', 'infliximab'], dtype=object), array([79, 48, 13]))\n",
      "Outcomes (140): (array([0, 1]), array([100,  40]))\n",
      "AUC: 0.601 +/- 0.056\n",
      "---------\n",
      "---------\n",
      "External Val Performance for esr - eta_ada - class_poor - cert_gol_inflix\n",
      "Treatments (140): (array(['Certolizumab', 'golimumab', 'infliximab'], dtype=object), array([79, 48, 13]))\n",
      "Outcomes (140): (array([0, 1]), array([100,  40]))\n",
      "AUC: 0.640 +/- 0.053\n",
      "---------\n"
     ]
    }
   ],
   "source": [
    "print('External TNFi Validation:')\n",
    "\n",
    "run_external_val('esr', 'etanercept', 'cert_gol_inflix')\n",
    "run_external_val('esr', 'adalimumab', 'cert_gol_inflix')\n",
    "run_external_val('esr', 'eta_ada', 'cert_gol_inflix')"
   ]
  },
  {
   "cell_type": "code",
   "execution_count": 7,
   "metadata": {},
   "outputs": [
    {
     "name": "stdout",
     "output_type": "stream",
     "text": [
      "External Non TNFi Validation:\n",
      "---------\n",
      "External Val Performance for esr - etanercept - class_poor - nTNFi\n",
      "Treatments (359): (array(['abatacept', 'rituximab', 'tocilizumab'], dtype=object), array([ 50, 179, 130]))\n",
      "Outcomes (359): (array([0, 1]), array([257, 102]))\n",
      "AUC: 0.620 +/- 0.031\n",
      "---------\n",
      "---------\n",
      "External Val Performance for esr - adalimumab - class_poor - nTNFi\n",
      "Treatments (359): (array(['abatacept', 'rituximab', 'tocilizumab'], dtype=object), array([ 50, 179, 130]))\n",
      "Outcomes (359): (array([0, 1]), array([257, 102]))\n",
      "AUC: 0.621 +/- 0.032\n",
      "---------\n",
      "---------\n",
      "External Val Performance for esr - eta_ada - class_poor - nTNFi\n",
      "Treatments (359): (array(['abatacept', 'rituximab', 'tocilizumab'], dtype=object), array([ 50, 179, 130]))\n",
      "Outcomes (359): (array([0, 1]), array([257, 102]))\n",
      "AUC: 0.630 +/- 0.032\n",
      "---------\n",
      "---------\n",
      "External Val Performance for esr - TNFi - class_poor - nTNFi\n",
      "Treatments (359): (array(['abatacept', 'rituximab', 'tocilizumab'], dtype=object), array([ 50, 179, 130]))\n",
      "Outcomes (359): (array([0, 1]), array([257, 102]))\n",
      "AUC: 0.636 +/- 0.033\n",
      "---------\n"
     ]
    }
   ],
   "source": [
    "print('External Non TNFi Validation:')\n",
    "\n",
    "run_external_val('esr', 'etanercept', 'nTNFi')\n",
    "run_external_val('esr', 'adalimumab', 'nTNFi')\n",
    "run_external_val('esr', 'eta_ada', 'nTNFi')\n",
    "run_external_val('esr', 'TNFi', 'nTNFi')"
   ]
  },
  {
   "cell_type": "markdown",
   "metadata": {},
   "source": [
    "CRP MN Models:"
   ]
  },
  {
   "cell_type": "code",
   "execution_count": 8,
   "metadata": {},
   "outputs": [
    {
     "name": "stdout",
     "output_type": "stream",
     "text": [
      "Counter Factual Validation:\n",
      "---------\n",
      "External Val Performance for crp - etanercept - class - adalimumab\n",
      "Treatments (273): (array(['adalimumab'], dtype=object), array([273]))\n",
      "Outcomes (273): (array([0, 1, 2]), array([115, 109,  49]))\n",
      "AUC: 0.614 +/- 0.025\n",
      "---------\n",
      "---------\n",
      "External Val Performance for crp - adalimumab - class - etanercept\n",
      "Treatments (473): (array(['etanercept'], dtype=object), array([473]))\n",
      "Outcomes (473): (array([0, 1, 2]), array([180, 202,  91]))\n",
      "AUC: 0.584 +/- 0.020\n",
      "---------\n"
     ]
    }
   ],
   "source": [
    "print('Counter Factual Validation:')\n",
    "run_external_val('crp', 'etanercept', 'adalimumab', outcome_col = 'class', _type = 'mnlog')\n",
    "run_external_val('crp', 'adalimumab', 'etanercept', outcome_col = 'class', _type = 'mnlog')"
   ]
  },
  {
   "cell_type": "code",
   "execution_count": 9,
   "metadata": {},
   "outputs": [
    {
     "name": "stdout",
     "output_type": "stream",
     "text": [
      "External TNFi Validation:\n",
      "---------\n",
      "External Val Performance for crp - etanercept - class - cert_gol_inflix\n",
      "Treatments (195): (array(['Certolizumab', 'golimumab', 'infliximab'], dtype=object), array([124,  55,  16]))\n",
      "Outcomes (195): (array([0, 1, 2]), array([75, 74, 46]))\n",
      "AUC: 0.644 +/- 0.029\n",
      "---------\n",
      "---------\n",
      "External Val Performance for crp - adalimumab - class - cert_gol_inflix\n",
      "Treatments (195): (array(['Certolizumab', 'golimumab', 'infliximab'], dtype=object), array([124,  55,  16]))\n",
      "Outcomes (195): (array([0, 1, 2]), array([75, 74, 46]))\n",
      "AUC: 0.587 +/- 0.028\n",
      "---------\n",
      "---------\n",
      "External Val Performance for crp - eta_ada - class - cert_gol_inflix\n",
      "Treatments (195): (array(['Certolizumab', 'golimumab', 'infliximab'], dtype=object), array([124,  55,  16]))\n",
      "Outcomes (195): (array([0, 1, 2]), array([75, 74, 46]))\n",
      "AUC: 0.638 +/- 0.027\n",
      "---------\n"
     ]
    }
   ],
   "source": [
    "print('External TNFi Validation:')\n",
    "\n",
    "run_external_val('crp', 'etanercept', 'cert_gol_inflix', outcome_col = 'class', _type = 'mnlog')\n",
    "run_external_val('crp', 'adalimumab', 'cert_gol_inflix', outcome_col = 'class', _type = 'mnlog')\n",
    "run_external_val('crp', 'eta_ada', 'cert_gol_inflix', outcome_col = 'class', _type = 'mnlog')"
   ]
  },
  {
   "cell_type": "code",
   "execution_count": 10,
   "metadata": {},
   "outputs": [
    {
     "name": "stdout",
     "output_type": "stream",
     "text": [
      "External Non TNFi Validation:\n",
      "---------\n",
      "External Val Performance for crp - etanercept - class - nTNFi\n",
      "Treatments (414): (array(['abatacept', 'rituximab', 'tocilizumab'], dtype=object), array([ 48, 224, 142]))\n",
      "Outcomes (414): (array([0, 1, 2]), array([119, 184, 111]))\n",
      "AUC: 0.639 +/- 0.022\n",
      "---------\n",
      "---------\n",
      "External Val Performance for crp - adalimumab - class - nTNFi\n",
      "Treatments (414): (array(['abatacept', 'rituximab', 'tocilizumab'], dtype=object), array([ 48, 224, 142]))\n",
      "Outcomes (414): (array([0, 1, 2]), array([119, 184, 111]))\n",
      "AUC: 0.578 +/- 0.022\n",
      "---------\n",
      "---------\n",
      "External Val Performance for crp - eta_ada - class - nTNFi\n",
      "Treatments (414): (array(['abatacept', 'rituximab', 'tocilizumab'], dtype=object), array([ 48, 224, 142]))\n",
      "Outcomes (414): (array([0, 1, 2]), array([119, 184, 111]))\n",
      "AUC: 0.634 +/- 0.022\n",
      "---------\n",
      "---------\n",
      "External Val Performance for crp - TNFi - class - nTNFi\n",
      "Treatments (414): (array(['abatacept', 'rituximab', 'tocilizumab'], dtype=object), array([ 48, 224, 142]))\n",
      "Outcomes (414): (array([0, 1, 2]), array([119, 184, 111]))\n",
      "AUC: 0.638 +/- 0.023\n",
      "---------\n"
     ]
    }
   ],
   "source": [
    "print('External Non TNFi Validation:')\n",
    "\n",
    "run_external_val('crp', 'etanercept', 'nTNFi', outcome_col = 'class', _type = 'mnlog')\n",
    "run_external_val('crp', 'adalimumab', 'nTNFi', outcome_col = 'class', _type = 'mnlog')\n",
    "run_external_val('crp', 'eta_ada', 'nTNFi', outcome_col = 'class', _type = 'mnlog')\n",
    "run_external_val('crp', 'TNFi', 'nTNFi', outcome_col = 'class', _type = 'mnlog')"
   ]
  },
  {
   "cell_type": "markdown",
   "metadata": {},
   "source": [
    "ESR MN Models:"
   ]
  },
  {
   "cell_type": "code",
   "execution_count": 11,
   "metadata": {},
   "outputs": [
    {
     "name": "stdout",
     "output_type": "stream",
     "text": [
      "Counter Factual Validation:\n",
      "---------\n",
      "External Val Performance for esr - etanercept - class - adalimumab\n",
      "Treatments (226): (array(['adalimumab'], dtype=object), array([226]))\n",
      "Outcomes (226): (array([0, 1, 2]), array([ 65, 118,  43]))\n",
      "AUC: 0.686 +/- 0.029\n",
      "---------\n",
      "---------\n",
      "External Val Performance for esr - adalimumab - class - etanercept\n",
      "Treatments (421): (array(['etanercept'], dtype=object), array([421]))\n",
      "Outcomes (421): (array([0, 1, 2]), array([127, 203,  91]))\n",
      "AUC: 0.608 +/- 0.023\n",
      "---------\n"
     ]
    }
   ],
   "source": [
    "print('Counter Factual Validation:')\n",
    "\n",
    "run_external_val('esr', 'etanercept', 'adalimumab', outcome_col = 'class', _type = 'mnlog')\n",
    "run_external_val('esr', 'adalimumab', 'etanercept', outcome_col = 'class', _type = 'mnlog')"
   ]
  },
  {
   "cell_type": "code",
   "execution_count": 12,
   "metadata": {},
   "outputs": [
    {
     "name": "stdout",
     "output_type": "stream",
     "text": [
      "External TNFi Validation:\n",
      "---------\n",
      "External Val Performance for esr - etanercept - class - cert_gol_inflix\n",
      "Treatments (140): (array(['Certolizumab', 'golimumab', 'infliximab'], dtype=object), array([79, 48, 13]))\n",
      "Outcomes (140): (array([0, 1, 2]), array([41, 59, 40]))\n",
      "AUC: 0.673 +/- 0.035\n",
      "---------\n",
      "---------\n",
      "External Val Performance for esr - adalimumab - class - cert_gol_inflix\n",
      "Treatments (140): (array(['Certolizumab', 'golimumab', 'infliximab'], dtype=object), array([79, 48, 13]))\n",
      "Outcomes (140): (array([0, 1, 2]), array([41, 59, 40]))\n",
      "AUC: 0.633 +/- 0.037\n",
      "---------\n",
      "---------\n",
      "External Val Performance for esr - eta_ada - class - cert_gol_inflix\n",
      "Treatments (140): (array(['Certolizumab', 'golimumab', 'infliximab'], dtype=object), array([79, 48, 13]))\n",
      "Outcomes (140): (array([0, 1, 2]), array([41, 59, 40]))\n",
      "AUC: 0.662 +/- 0.035\n",
      "---------\n"
     ]
    }
   ],
   "source": [
    "print('External TNFi Validation:')\n",
    "\n",
    "run_external_val('esr', 'etanercept', 'cert_gol_inflix', outcome_col = 'class', _type = 'mnlog')\n",
    "run_external_val('esr', 'adalimumab', 'cert_gol_inflix', outcome_col = 'class', _type = 'mnlog')\n",
    "run_external_val('esr', 'eta_ada', 'cert_gol_inflix', outcome_col = 'class', _type = 'mnlog')"
   ]
  },
  {
   "cell_type": "code",
   "execution_count": 13,
   "metadata": {},
   "outputs": [
    {
     "name": "stdout",
     "output_type": "stream",
     "text": [
      "External Non TNFi Validation:\n",
      "---------\n",
      "External Val Performance for esr - etanercept - class - nTNFi\n",
      "Treatments (359): (array(['abatacept', 'rituximab', 'tocilizumab'], dtype=object), array([ 50, 179, 130]))\n",
      "Outcomes (359): (array([0, 1, 2]), array([ 75, 182, 102]))\n",
      "AUC: 0.622 +/- 0.024\n",
      "---------\n",
      "---------\n",
      "External Val Performance for esr - adalimumab - class - nTNFi\n",
      "Treatments (359): (array(['abatacept', 'rituximab', 'tocilizumab'], dtype=object), array([ 50, 179, 130]))\n",
      "Outcomes (359): (array([0, 1, 2]), array([ 75, 182, 102]))\n",
      "AUC: 0.618 +/- 0.023\n",
      "---------\n",
      "---------\n",
      "External Val Performance for esr - eta_ada - class - nTNFi\n",
      "Treatments (359): (array(['abatacept', 'rituximab', 'tocilizumab'], dtype=object), array([ 50, 179, 130]))\n",
      "Outcomes (359): (array([0, 1, 2]), array([ 75, 182, 102]))\n",
      "AUC: 0.629 +/- 0.026\n",
      "---------\n",
      "---------\n",
      "External Val Performance for esr - TNFi - class - nTNFi\n",
      "Treatments (359): (array(['abatacept', 'rituximab', 'tocilizumab'], dtype=object), array([ 50, 179, 130]))\n",
      "Outcomes (359): (array([0, 1, 2]), array([ 75, 182, 102]))\n",
      "AUC: 0.645 +/- 0.024\n",
      "---------\n"
     ]
    }
   ],
   "source": [
    "print('External Non TNFi Validation:')\n",
    "\n",
    "run_external_val('esr', 'etanercept', 'nTNFi', outcome_col = 'class', _type = 'mnlog')\n",
    "run_external_val('esr', 'adalimumab', 'nTNFi', outcome_col = 'class', _type = 'mnlog')\n",
    "run_external_val('esr', 'eta_ada', 'nTNFi', outcome_col = 'class', _type = 'mnlog')\n",
    "run_external_val('esr', 'TNFi', 'nTNFi', outcome_col = 'class', _type = 'mnlog')"
   ]
  },
  {
   "cell_type": "markdown",
   "metadata": {},
   "source": [
    "2C DAS Models"
   ]
  },
  {
   "cell_type": "code",
   "execution_count": 6,
   "metadata": {},
   "outputs": [
    {
     "name": "stdout",
     "output_type": "stream",
     "text": [
      "---------\n",
      "Performance for crp - etanercept - 2cdas_fu\n",
      "MAE: 2.904 +/- 0.203\n",
      "MSE: 14.295 +/- 2.062\n",
      "R2: 0.151 +/- 0.060\n",
      "---------\n",
      "---------\n",
      "Performance for crp - adalimumab - 2cdas_fu\n",
      "MAE: 3.059 +/- 0.161\n",
      "MSE: 16.583 +/- 1.715\n",
      "R2: 0.101 +/- 0.053\n",
      "---------\n",
      "---------\n",
      "Performance for crp - etanercept - 2cdas_fu\n",
      "MAE: 2.941 +/- 0.113\n",
      "MSE: 14.826 +/- 1.234\n",
      "R2: 0.181 +/- 0.030\n",
      "---------\n",
      "---------\n",
      "Performance for crp - adalimumab - 2cdas_fu\n",
      "MAE: 2.946 +/- 0.122\n",
      "MSE: 15.556 +/- 1.333\n",
      "R2: 0.141 +/- 0.035\n",
      "---------\n",
      "---------\n",
      "Performance for crp - eta_ada - 2cdas_fu\n",
      "MAE: 2.910 +/- 0.116\n",
      "MSE: 14.770 +/- 1.243\n",
      "R2: 0.186 +/- 0.028\n",
      "---------\n",
      "---------\n",
      "Performance for crp - etanercept - 2cdas_fu\n",
      "MAE: 3.089 +/- 0.156\n",
      "MSE: 15.520 +/- 1.531\n",
      "R2: 0.085 +/- 0.061\n",
      "---------\n",
      "---------\n",
      "Performance for crp - adalimumab - 2cdas_fu\n",
      "MAE: 3.349 +/- 0.222\n",
      "MSE: 19.629 +/- 3.829\n",
      "R2: -0.149 +/- 0.213\n",
      "---------\n",
      "---------\n",
      "Performance for crp - eta_ada - 2cdas_fu\n",
      "MAE: 3.148 +/- 0.173\n",
      "MSE: 16.144 +/- 1.746\n",
      "R2: 0.052 +/- 0.088\n",
      "---------\n",
      "---------\n",
      "Performance for crp - TNFi - 2cdas_fu\n",
      "MAE: 3.190 +/- 0.162\n",
      "MSE: 16.410 +/- 1.811\n",
      "R2: 0.032 +/- 0.093\n",
      "---------\n"
     ]
    }
   ],
   "source": [
    "run_external_val('crp', 'etanercept', 'adalimumab', outcome_col = '2cdas_fu', _type = 'cont')\n",
    "run_external_val('crp', 'adalimumab', 'etanercept', outcome_col = '2cdas_fu', _type = 'cont')\n",
    "run_external_val('crp', 'etanercept', 'TNFi', outcome_col = '2cdas_fu', _type = 'cont')\n",
    "run_external_val('crp', 'adalimumab', 'TNFi', outcome_col = '2cdas_fu', _type = 'cont')\n",
    "run_external_val('crp', 'eta_ada', 'TNFi', outcome_col = '2cdas_fu', _type = 'cont')\n",
    "run_external_val('crp', 'etanercept', 'nTNFi', outcome_col = '2cdas_fu', _type = 'cont')\n",
    "run_external_val('crp', 'adalimumab', 'nTNFi', outcome_col = '2cdas_fu', _type = 'cont')\n",
    "run_external_val('crp', 'eta_ada', 'nTNFi', outcome_col = '2cdas_fu', _type = 'cont')\n",
    "run_external_val('crp', 'TNFi', 'nTNFi', outcome_col = '2cdas_fu', _type = 'cont')"
   ]
  },
  {
   "cell_type": "code",
   "execution_count": 7,
   "metadata": {},
   "outputs": [
    {
     "name": "stdout",
     "output_type": "stream",
     "text": [
      "---------\n",
      "Performance for esr - etanercept - 2cdas_fu\n",
      "MAE: 1.521 +/- 0.119\n",
      "MSE: 4.004 +/- 0.721\n",
      "R2: 0.204 +/- 0.063\n",
      "---------\n",
      "---------\n",
      "Performance for esr - adalimumab - 2cdas_fu\n",
      "MAE: 1.705 +/- 0.095\n",
      "MSE: 4.941 +/- 0.604\n",
      "R2: 0.080 +/- 0.057\n",
      "---------\n",
      "---------\n",
      "Performance for esr - etanercept - 2cdas_fu\n",
      "MAE: 1.596 +/- 0.065\n",
      "MSE: 4.511 +/- 0.389\n",
      "R2: 0.185 +/- 0.032\n",
      "---------\n",
      "---------\n",
      "Performance for esr - adalimumab - 2cdas_fu\n",
      "MAE: 1.654 +/- 0.067\n",
      "MSE: 4.792 +/- 0.433\n",
      "R2: 0.138 +/- 0.039\n",
      "---------\n",
      "---------\n",
      "Performance for esr - eta_ada - 2cdas_fu\n",
      "MAE: 1.588 +/- 0.073\n",
      "MSE: 4.464 +/- 0.409\n",
      "R2: 0.195 +/- 0.032\n",
      "---------\n",
      "---------\n",
      "Performance for esr - etanercept - 2cdas_fu\n",
      "MAE: 1.910 +/- 0.105\n",
      "MSE: 5.893 +/- 0.609\n",
      "R2: 0.009 +/- 0.072\n",
      "---------\n",
      "---------\n",
      "Performance for esr - adalimumab - 2cdas_fu\n",
      "MAE: 2.018 +/- 0.121\n",
      "MSE: 6.870 +/- 1.314\n",
      "R2: -0.157 +/- 0.219\n",
      "---------\n",
      "---------\n",
      "Performance for esr - eta_ada - 2cdas_fu\n",
      "MAE: 1.916 +/- 0.109\n",
      "MSE: 5.992 +/- 0.706\n",
      "R2: -0.007 +/- 0.088\n",
      "---------\n",
      "---------\n",
      "Performance for esr - TNFi - 2cdas_fu\n",
      "MAE: 1.934 +/- 0.105\n",
      "MSE: 6.061 +/- 0.714\n",
      "R2: -0.013 +/- 0.108\n",
      "---------\n"
     ]
    }
   ],
   "source": [
    "run_external_val('esr', 'etanercept', 'adalimumab', outcome_col = '2cdas_fu', _type = 'cont')\n",
    "run_external_val('esr', 'adalimumab', 'etanercept', outcome_col = '2cdas_fu', _type = 'cont')\n",
    "run_external_val('esr', 'etanercept', 'TNFi', outcome_col = '2cdas_fu', _type = 'cont')\n",
    "run_external_val('esr', 'adalimumab', 'TNFi', outcome_col = '2cdas_fu', _type = 'cont')\n",
    "run_external_val('esr', 'eta_ada', 'TNFi', outcome_col = '2cdas_fu', _type = 'cont')\n",
    "run_external_val('esr', 'etanercept', 'nTNFi', outcome_col = '2cdas_fu', _type = 'cont')\n",
    "run_external_val('esr', 'adalimumab', 'nTNFi', outcome_col = '2cdas_fu', _type = 'cont')\n",
    "run_external_val('esr', 'eta_ada', 'nTNFi', outcome_col = '2cdas_fu', _type = 'cont')\n",
    "run_external_val('esr', 'TNFi', 'nTNFi', outcome_col = '2cdas_fu', _type = 'cont')"
   ]
  },
  {
   "cell_type": "markdown",
   "metadata": {},
   "source": [
    "4C DAS Models"
   ]
  },
  {
   "cell_type": "code",
   "execution_count": 6,
   "metadata": {},
   "outputs": [
    {
     "name": "stdout",
     "output_type": "stream",
     "text": [
      "---------\n",
      "Performance for crp - etanercept - 4cdas_fu - adalimumab\n",
      "MAE: 0.998 +/- 0.062\n",
      "MSE: 1.562 +/- 0.182\n",
      "R2: 0.130 +/- 0.063\n",
      "---------\n",
      "---------\n",
      "Performance for crp - adalimumab - 4cdas_fu - etanercept\n",
      "MAE: 1.094 +/- 0.043\n",
      "MSE: 1.745 +/- 0.129\n",
      "R2: 0.074 +/- 0.053\n",
      "---------\n",
      "---------\n",
      "Performance for crp - etanercept - 4cdas_fu - TNFi\n",
      "MAE: 1.021 +/- 0.031\n",
      "MSE: 1.583 +/- 0.092\n",
      "R2: 0.152 +/- 0.028\n",
      "---------\n",
      "---------\n",
      "Performance for crp - adalimumab - 4cdas_fu - TNFi\n",
      "MAE: 1.039 +/- 0.032\n",
      "MSE: 1.616 +/- 0.088\n",
      "R2: 0.127 +/- 0.036\n",
      "---------\n",
      "---------\n",
      "Performance for crp - eta_ada - 4cdas_fu - TNFi\n",
      "MAE: 1.022 +/- 0.029\n",
      "MSE: 1.573 +/- 0.088\n",
      "R2: 0.160 +/- 0.028\n",
      "---------\n",
      "---------\n",
      "Performance for crp - etanercept - 4cdas_fu - nTNFi\n",
      "MAE: 1.054 +/- 0.046\n",
      "MSE: 1.713 +/- 0.123\n",
      "R2: 0.068 +/- 0.051\n",
      "---------\n",
      "---------\n",
      "Performance for crp - adalimumab - 4cdas_fu - nTNFi\n",
      "MAE: 1.106 +/- 0.061\n",
      "MSE: 2.009 +/- 0.319\n",
      "R2: -0.082 +/- 0.156\n",
      "---------\n",
      "---------\n",
      "Performance for crp - eta_ada - 4cdas_fu - nTNFi\n",
      "MAE: 1.063 +/- 0.049\n",
      "MSE: 1.741 +/- 0.143\n",
      "R2: 0.056 +/- 0.065\n",
      "---------\n",
      "---------\n",
      "Performance for crp - TNFi - 4cdas_fu - nTNFi\n",
      "MAE: 1.070 +/- 0.055\n",
      "MSE: 1.768 +/- 0.179\n",
      "R2: 0.044 +/- 0.075\n",
      "---------\n"
     ]
    }
   ],
   "source": [
    "run_external_val('crp', 'etanercept', 'adalimumab', outcome_col = '4cdas_fu', _type = 'cont')\n",
    "run_external_val('crp', 'adalimumab', 'etanercept', outcome_col = '4cdas_fu', _type = 'cont')\n",
    "run_external_val('crp', 'etanercept', 'TNFi', outcome_col = '4cdas_fu', _type = 'cont')\n",
    "run_external_val('crp', 'adalimumab', 'TNFi', outcome_col = '4cdas_fu', _type = 'cont')\n",
    "run_external_val('crp', 'eta_ada', 'TNFi', outcome_col = '4cdas_fu', _type = 'cont')\n",
    "run_external_val('crp', 'etanercept', 'nTNFi', outcome_col = '4cdas_fu', _type = 'cont')\n",
    "run_external_val('crp', 'adalimumab', 'nTNFi', outcome_col = '4cdas_fu', _type = 'cont')\n",
    "run_external_val('crp', 'eta_ada', 'nTNFi', outcome_col = '4cdas_fu', _type = 'cont')\n",
    "run_external_val('crp', 'TNFi', 'nTNFi', outcome_col = '4cdas_fu', _type = 'cont')"
   ]
  },
  {
   "cell_type": "code",
   "execution_count": 7,
   "metadata": {},
   "outputs": [
    {
     "name": "stdout",
     "output_type": "stream",
     "text": [
      "---------\n",
      "Performance for esr - etanercept - 4cdas_fu - adalimumab\n",
      "MAE: 0.878 +/- 0.060\n",
      "MSE: 1.250 +/- 0.150\n",
      "R2: 0.185 +/- 0.058\n",
      "---------\n",
      "---------\n",
      "Performance for esr - adalimumab - 4cdas_fu - etanercept\n",
      "MAE: 1.052 +/- 0.045\n",
      "MSE: 1.607 +/- 0.127\n",
      "R2: 0.057 +/- 0.062\n",
      "---------\n",
      "---------\n",
      "Performance for esr - etanercept - 4cdas_fu - TNFi\n",
      "MAE: 0.963 +/- 0.030\n",
      "MSE: 1.413 +/- 0.088\n",
      "R2: 0.166 +/- 0.030\n",
      "---------\n",
      "---------\n",
      "Performance for esr - adalimumab - 4cdas_fu - TNFi\n",
      "MAE: 0.994 +/- 0.036\n",
      "MSE: 1.490 +/- 0.105\n",
      "R2: 0.122 +/- 0.040\n",
      "---------\n",
      "---------\n",
      "Performance for esr - eta_ada - 4cdas_fu - TNFi\n",
      "MAE: 0.963 +/- 0.035\n",
      "MSE: 1.408 +/- 0.094\n",
      "R2: 0.171 +/- 0.030\n",
      "---------\n",
      "---------\n",
      "Performance for esr - etanercept - 4cdas_fu - nTNFi\n",
      "MAE: 1.081 +/- 0.050\n",
      "MSE: 1.749 +/- 0.157\n",
      "R2: 0.019 +/- 0.062\n",
      "---------\n",
      "---------\n",
      "Performance for esr - adalimumab - 4cdas_fu - nTNFi\n",
      "MAE: 1.077 +/- 0.060\n",
      "MSE: 1.866 +/- 0.257\n",
      "R2: -0.041 +/- 0.123\n",
      "---------\n",
      "---------\n",
      "Performance for esr - eta_ada - 4cdas_fu - nTNFi\n",
      "MAE: 1.064 +/- 0.051\n",
      "MSE: 1.715 +/- 0.163\n",
      "R2: 0.030 +/- 0.068\n",
      "---------\n",
      "---------\n",
      "Performance for esr - TNFi - 4cdas_fu - nTNFi\n",
      "MAE: 1.060 +/- 0.056\n",
      "MSE: 1.701 +/- 0.188\n",
      "R2: 0.041 +/- 0.071\n",
      "---------\n"
     ]
    }
   ],
   "source": [
    "run_external_val('esr', 'etanercept', 'adalimumab', outcome_col = '4cdas_fu', _type = 'cont')\n",
    "run_external_val('esr', 'adalimumab', 'etanercept', outcome_col = '4cdas_fu', _type = 'cont')\n",
    "run_external_val('esr', 'etanercept', 'TNFi', outcome_col = '4cdas_fu', _type = 'cont')\n",
    "run_external_val('esr', 'adalimumab', 'TNFi', outcome_col = '4cdas_fu', _type = 'cont')\n",
    "run_external_val('esr', 'eta_ada', 'TNFi', outcome_col = '4cdas_fu', _type = 'cont')\n",
    "run_external_val('esr', 'etanercept', 'nTNFi', outcome_col = '4cdas_fu', _type = 'cont')\n",
    "run_external_val('esr', 'adalimumab', 'nTNFi', outcome_col = '4cdas_fu', _type = 'cont')\n",
    "run_external_val('esr', 'eta_ada', 'nTNFi', outcome_col = '4cdas_fu', _type = 'cont')\n",
    "run_external_val('esr', 'TNFi', 'nTNFi', outcome_col = '4cdas_fu', _type = 'cont')"
   ]
  },
  {
   "cell_type": "code",
   "execution_count": null,
   "metadata": {},
   "outputs": [],
   "source": []
  }
 ],
 "metadata": {
  "kernelspec": {
   "display_name": "Python 3",
   "language": "python",
   "name": "python3"
  },
  "language_info": {
   "codemirror_mode": {
    "name": "ipython",
    "version": 3
   },
   "file_extension": ".py",
   "mimetype": "text/x-python",
   "name": "python",
   "nbconvert_exporter": "python",
   "pygments_lexer": "ipython3",
   "version": "3.8.5"
  }
 },
 "nbformat": 4,
 "nbformat_minor": 4
}
